{
 "cells": [
  {
   "cell_type": "markdown",
   "metadata": {},
   "source": [
    "# Decision Tree for Regression\n",
    "\n",
    "The process of solving regression problem with decision tree using Scikit Learn.However for regression we use DecisionTreeRegressor class of the tree library. We will use this dataset to try and predict gas consumptions (in millions of gallons) in 48 US states based upon gas tax (in cents), per capita income (dollars), paved highways (in miles) and the proportion of population with a drivers license.\n",
    "\n",
    "Now let's apply our decision tree algorithm on this data to try and predict the gas consumption from this data."
   ]
  },
  {
   "cell_type": "markdown",
   "metadata": {},
   "source": [
    "# Importing Libraries"
   ]
  },
  {
   "cell_type": "code",
   "execution_count": 1,
   "metadata": {},
   "outputs": [],
   "source": [
    "import pandas as pd\n",
    "import numpy as np\n",
    "import matplotlib.pyplot as plt\n",
    "import seaborn as sns \n",
    "import statsmodels.api as sm"
   ]
  },
  {
   "cell_type": "markdown",
   "metadata": {},
   "source": [
    "# Importing the Dataset"
   ]
  },
  {
   "cell_type": "code",
   "execution_count": 2,
   "metadata": {},
   "outputs": [
    {
     "data": {
      "text/html": [
       "<div>\n",
       "<style scoped>\n",
       "    .dataframe tbody tr th:only-of-type {\n",
       "        vertical-align: middle;\n",
       "    }\n",
       "\n",
       "    .dataframe tbody tr th {\n",
       "        vertical-align: top;\n",
       "    }\n",
       "\n",
       "    .dataframe thead th {\n",
       "        text-align: right;\n",
       "    }\n",
       "</style>\n",
       "<table border=\"1\" class=\"dataframe\">\n",
       "  <thead>\n",
       "    <tr style=\"text-align: right;\">\n",
       "      <th></th>\n",
       "      <th>Petrol_tax</th>\n",
       "      <th>Average_income</th>\n",
       "      <th>Paved_Highways</th>\n",
       "      <th>Population_Driver_licence(%)</th>\n",
       "      <th>Petrol_Consumption</th>\n",
       "    </tr>\n",
       "  </thead>\n",
       "  <tbody>\n",
       "    <tr>\n",
       "      <th>0</th>\n",
       "      <td>9.0</td>\n",
       "      <td>3571</td>\n",
       "      <td>1976</td>\n",
       "      <td>0.525</td>\n",
       "      <td>541</td>\n",
       "    </tr>\n",
       "    <tr>\n",
       "      <th>1</th>\n",
       "      <td>9.0</td>\n",
       "      <td>4092</td>\n",
       "      <td>1250</td>\n",
       "      <td>0.572</td>\n",
       "      <td>524</td>\n",
       "    </tr>\n",
       "    <tr>\n",
       "      <th>2</th>\n",
       "      <td>9.0</td>\n",
       "      <td>3865</td>\n",
       "      <td>1586</td>\n",
       "      <td>0.580</td>\n",
       "      <td>561</td>\n",
       "    </tr>\n",
       "    <tr>\n",
       "      <th>3</th>\n",
       "      <td>7.5</td>\n",
       "      <td>4870</td>\n",
       "      <td>2351</td>\n",
       "      <td>0.529</td>\n",
       "      <td>414</td>\n",
       "    </tr>\n",
       "    <tr>\n",
       "      <th>4</th>\n",
       "      <td>8.0</td>\n",
       "      <td>4399</td>\n",
       "      <td>431</td>\n",
       "      <td>0.544</td>\n",
       "      <td>410</td>\n",
       "    </tr>\n",
       "  </tbody>\n",
       "</table>\n",
       "</div>"
      ],
      "text/plain": [
       "   Petrol_tax  Average_income  Paved_Highways  Population_Driver_licence(%)  \\\n",
       "0         9.0            3571            1976                         0.525   \n",
       "1         9.0            4092            1250                         0.572   \n",
       "2         9.0            3865            1586                         0.580   \n",
       "3         7.5            4870            2351                         0.529   \n",
       "4         8.0            4399             431                         0.544   \n",
       "\n",
       "   Petrol_Consumption  \n",
       "0                 541  \n",
       "1                 524  \n",
       "2                 561  \n",
       "3                 414  \n",
       "4                 410  "
      ]
     },
     "execution_count": 2,
     "metadata": {},
     "output_type": "execute_result"
    }
   ],
   "source": [
    "data = pd.read_csv('petrol_consumption.csv')\n",
    "data.head()"
   ]
  },
  {
   "cell_type": "markdown",
   "metadata": {},
   "source": [
    "# Data Analysis"
   ]
  },
  {
   "cell_type": "markdown",
   "metadata": {},
   "source": [
    "Shape Functions shows the number of rows and columns in that dataset"
   ]
  },
  {
   "cell_type": "code",
   "execution_count": 3,
   "metadata": {},
   "outputs": [
    {
     "name": "stdout",
     "output_type": "stream",
     "text": [
      "Shape of the Dataset--> (48, 5)\n"
     ]
    }
   ],
   "source": [
    "print('Shape of the Dataset-->',data.shape)"
   ]
  },
  {
   "cell_type": "markdown",
   "metadata": {},
   "source": [
    "The output will show \"(48,5)\", which means that our dataset has 48 records and 5 attributes."
   ]
  },
  {
   "cell_type": "markdown",
   "metadata": {},
   "source": [
    "Printing the column indexes of the dataset"
   ]
  },
  {
   "cell_type": "code",
   "execution_count": 4,
   "metadata": {},
   "outputs": [
    {
     "name": "stdout",
     "output_type": "stream",
     "text": [
      "Columns names --> Index(['Petrol_tax', 'Average_income', 'Paved_Highways',\n",
      "       'Population_Driver_licence(%)', 'Petrol_Consumption'],\n",
      "      dtype='object')\n"
     ]
    }
   ],
   "source": [
    "print ('Columns names -->',data.columns)"
   ]
  },
  {
   "cell_type": "markdown",
   "metadata": {},
   "source": [
    "datatypes of the column features"
   ]
  },
  {
   "cell_type": "code",
   "execution_count": 5,
   "metadata": {},
   "outputs": [
    {
     "name": "stdout",
     "output_type": "stream",
     "text": [
      "Columns Datatype --> Petrol_tax                      float64\n",
      "Average_income                    int64\n",
      "Paved_Highways                    int64\n",
      "Population_Driver_licence(%)    float64\n",
      "Petrol_Consumption                int64\n",
      "dtype: object\n"
     ]
    }
   ],
   "source": [
    "print ('Columns Datatype -->', data.dtypes)"
   ]
  },
  {
   "cell_type": "markdown",
   "metadata": {},
   "source": [
    "Checking weather there are any null values in that feature and there count"
   ]
  },
  {
   "cell_type": "code",
   "execution_count": 6,
   "metadata": {},
   "outputs": [
    {
     "data": {
      "text/plain": [
       "Petrol_tax                      0\n",
       "Average_income                  0\n",
       "Paved_Highways                  0\n",
       "Population_Driver_licence(%)    0\n",
       "Petrol_Consumption              0\n",
       "dtype: int64"
      ]
     },
     "execution_count": 6,
     "metadata": {},
     "output_type": "execute_result"
    }
   ],
   "source": [
    "data.isnull().sum()"
   ]
  },
  {
   "cell_type": "markdown",
   "metadata": {},
   "source": [
    "Using visualization check the null values in the dataset"
   ]
  },
  {
   "cell_type": "code",
   "execution_count": 7,
   "metadata": {},
   "outputs": [
    {
     "data": {
      "text/plain": [
       "<matplotlib.axes._subplots.AxesSubplot at 0x7f4df2f9fcf8>"
      ]
     },
     "execution_count": 7,
     "metadata": {},
     "output_type": "execute_result"
    },
    {
     "data": {
      "image/png": "[encoded data removed]",
      "text/plain": [
       "<Figure size 432x288 with 1 Axes>"
      ]
     },
     "metadata": {
      "needs_background": "light"
     },
     "output_type": "display_data"
    }
   ],
   "source": [
    "sns.heatmap(data.isnull(), cbar=False)"
   ]
  },
  {
   "cell_type": "markdown",
   "metadata": {},
   "source": [
    "Describing the entire datas mean,std,min,max of all the features in that data"
   ]
  },
  {
   "cell_type": "code",
   "execution_count": 8,
   "metadata": {},
   "outputs": [
    {
     "data": {
      "text/html": [
       "<div>\n",
       "<style scoped>\n",
       "    .dataframe tbody tr th:only-of-type {\n",
       "        vertical-align: middle;\n",
       "    }\n",
       "\n",
       "    .dataframe tbody tr th {\n",
       "        vertical-align: top;\n",
       "    }\n",
       "\n",
       "    .dataframe thead th {\n",
       "        text-align: right;\n",
       "    }\n",
       "</style>\n",
       "<table border=\"1\" class=\"dataframe\">\n",
       "  <thead>\n",
       "    <tr style=\"text-align: right;\">\n",
       "      <th></th>\n",
       "      <th>Petrol_tax</th>\n",
       "      <th>Average_income</th>\n",
       "      <th>Paved_Highways</th>\n",
       "      <th>Population_Driver_licence(%)</th>\n",
       "      <th>Petrol_Consumption</th>\n",
       "    </tr>\n",
       "  </thead>\n",
       "  <tbody>\n",
       "    <tr>\n",
       "      <th>count</th>\n",
       "      <td>48.000000</td>\n",
       "      <td>48.000000</td>\n",
       "      <td>48.000000</td>\n",
       "      <td>48.000000</td>\n",
       "      <td>48.000000</td>\n",
       "    </tr>\n",
       "    <tr>\n",
       "      <th>mean</th>\n",
       "      <td>7.668333</td>\n",
       "      <td>4241.833333</td>\n",
       "      <td>5565.416667</td>\n",
       "      <td>0.570333</td>\n",
       "      <td>576.770833</td>\n",
       "    </tr>\n",
       "    <tr>\n",
       "      <th>std</th>\n",
       "      <td>0.950770</td>\n",
       "      <td>573.623768</td>\n",
       "      <td>3491.507166</td>\n",
       "      <td>0.055470</td>\n",
       "      <td>111.885816</td>\n",
       "    </tr>\n",
       "    <tr>\n",
       "      <th>min</th>\n",
       "      <td>5.000000</td>\n",
       "      <td>3063.000000</td>\n",
       "      <td>431.000000</td>\n",
       "      <td>0.451000</td>\n",
       "      <td>344.000000</td>\n",
       "    </tr>\n",
       "    <tr>\n",
       "      <th>25%</th>\n",
       "      <td>7.000000</td>\n",
       "      <td>3739.000000</td>\n",
       "      <td>3110.250000</td>\n",
       "      <td>0.529750</td>\n",
       "      <td>509.500000</td>\n",
       "    </tr>\n",
       "    <tr>\n",
       "      <th>50%</th>\n",
       "      <td>7.500000</td>\n",
       "      <td>4298.000000</td>\n",
       "      <td>4735.500000</td>\n",
       "      <td>0.564500</td>\n",
       "      <td>568.500000</td>\n",
       "    </tr>\n",
       "    <tr>\n",
       "      <th>75%</th>\n",
       "      <td>8.125000</td>\n",
       "      <td>4578.750000</td>\n",
       "      <td>7156.000000</td>\n",
       "      <td>0.595250</td>\n",
       "      <td>632.750000</td>\n",
       "    </tr>\n",
       "    <tr>\n",
       "      <th>max</th>\n",
       "      <td>10.000000</td>\n",
       "      <td>5342.000000</td>\n",
       "      <td>17782.000000</td>\n",
       "      <td>0.724000</td>\n",
       "      <td>968.000000</td>\n",
       "    </tr>\n",
       "  </tbody>\n",
       "</table>\n",
       "</div>"
      ],
      "text/plain": [
       "       Petrol_tax  Average_income  Paved_Highways  \\\n",
       "count   48.000000       48.000000       48.000000   \n",
       "mean     7.668333     4241.833333     5565.416667   \n",
       "std      0.950770      573.623768     3491.507166   \n",
       "min      5.000000     3063.000000      431.000000   \n",
       "25%      7.000000     3739.000000     3110.250000   \n",
       "50%      7.500000     4298.000000     4735.500000   \n",
       "75%      8.125000     4578.750000     7156.000000   \n",
       "max     10.000000     5342.000000    17782.000000   \n",
       "\n",
       "       Population_Driver_licence(%)  Petrol_Consumption  \n",
       "count                     48.000000           48.000000  \n",
       "mean                       0.570333          576.770833  \n",
       "std                        0.055470          111.885816  \n",
       "min                        0.451000          344.000000  \n",
       "25%                        0.529750          509.500000  \n",
       "50%                        0.564500          568.500000  \n",
       "75%                        0.595250          632.750000  \n",
       "max                        0.724000          968.000000  "
      ]
     },
     "execution_count": 8,
     "metadata": {},
     "output_type": "execute_result"
    }
   ],
   "source": [
    "data.describe()"
   ]
  },
  {
   "cell_type": "markdown",
   "metadata": {},
   "source": [
    "Entire information of the data columns,type,memory usage."
   ]
  },
  {
   "cell_type": "code",
   "execution_count": 9,
   "metadata": {},
   "outputs": [
    {
     "name": "stdout",
     "output_type": "stream",
     "text": [
      "<class 'pandas.core.frame.DataFrame'>\n",
      "RangeIndex: 48 entries, 0 to 47\n",
      "Data columns (total 5 columns):\n",
      "Petrol_tax                      48 non-null float64\n",
      "Average_income                  48 non-null int64\n",
      "Paved_Highways                  48 non-null int64\n",
      "Population_Driver_licence(%)    48 non-null float64\n",
      "Petrol_Consumption              48 non-null int64\n",
      "dtypes: float64(2), int64(3)\n",
      "memory usage: 2.0 KB\n"
     ]
    }
   ],
   "source": [
    "data.info()"
   ]
  },
  {
   "cell_type": "markdown",
   "metadata": {},
   "source": [
    "The correlation matrix of the dataset features"
   ]
  },
  {
   "cell_type": "code",
   "execution_count": 10,
   "metadata": {},
   "outputs": [
    {
     "data": {
      "text/plain": [
       "<matplotlib.axes._subplots.AxesSubplot at 0x7f4deffdba90>"
      ]
     },
     "execution_count": 10,
     "metadata": {},
     "output_type": "execute_result"
    },
    {
     "data": {
      "image/png": "[encoded data removed]",
      "text/plain": [
       "<Figure size 432x288 with 2 Axes>"
      ]
     },
     "metadata": {
      "needs_background": "light"
     },
     "output_type": "display_data"
    }
   ],
   "source": [
    "correlation_matrix = data.corr()\n",
    "sns.heatmap(data=correlation_matrix, annot=True)"
   ]
  },
  {
   "cell_type": "markdown",
   "metadata": {},
   "source": [
    "Plotting Predictors Vs Target variable"
   ]
  },
  {
   "cell_type": "code",
   "execution_count": 11,
   "metadata": {},
   "outputs": [
    {
     "data": {
      "text/plain": [
       "<seaborn.axisgrid.FacetGrid at 0x7f4deff289e8>"
      ]
     },
     "execution_count": 11,
     "metadata": {},
     "output_type": "execute_result"
    },
    {
     "data": {
      "image/png": "[encoded data removed]",
      "text/plain": [
       "<Figure size 864x432 with 5 Axes>"
      ]
     },
     "metadata": {
      "needs_background": "light"
     },
     "output_type": "display_data"
    }
   ],
   "source": [
    "num = [f for f in data.columns if data.dtypes[f] != 'object']\n",
    "nd = pd.melt(data, value_vars = num)\n",
    "n1 = sns.FacetGrid (nd, col='variable', col_wrap=4, sharex=False, sharey = False)\n",
    "n1 = n1.map(sns.distplot, 'value')\n",
    "n1"
   ]
  },
  {
   "cell_type": "markdown",
   "metadata": {},
   "source": [
    "# Observations:\n",
    "\n",
    "We Observe that we have less percent contribution from outliers in the data and we can ignore as the size of dataset is less"
   ]
  },
  {
   "cell_type": "markdown",
   "metadata": {},
   "source": [
    "# Outliers Values"
   ]
  },
  {
   "cell_type": "code",
   "execution_count": 12,
   "metadata": {},
   "outputs": [
    {
     "data": {
      "text/html": [
       "<div>\n",
       "<style scoped>\n",
       "    .dataframe tbody tr th:only-of-type {\n",
       "        vertical-align: middle;\n",
       "    }\n",
       "\n",
       "    .dataframe tbody tr th {\n",
       "        vertical-align: top;\n",
       "    }\n",
       "\n",
       "    .dataframe thead th {\n",
       "        text-align: right;\n",
       "    }\n",
       "</style>\n",
       "<table border=\"1\" class=\"dataframe\">\n",
       "  <thead>\n",
       "    <tr style=\"text-align: right;\">\n",
       "      <th></th>\n",
       "      <th>Petrol_tax</th>\n",
       "      <th>Average_income</th>\n",
       "      <th>Paved_Highways</th>\n",
       "      <th>Population_Driver_licence(%)</th>\n",
       "      <th>Petrol_Consumption</th>\n",
       "    </tr>\n",
       "  </thead>\n",
       "  <tbody>\n",
       "    <tr>\n",
       "      <th>0.01</th>\n",
       "      <td>5.470</td>\n",
       "      <td>3189.90</td>\n",
       "      <td>511.37</td>\n",
       "      <td>0.46792</td>\n",
       "      <td>375.02</td>\n",
       "    </tr>\n",
       "    <tr>\n",
       "      <th>0.05</th>\n",
       "      <td>6.727</td>\n",
       "      <td>3388.85</td>\n",
       "      <td>1279.05</td>\n",
       "      <td>0.49825</td>\n",
       "      <td>429.05</td>\n",
       "    </tr>\n",
       "    <tr>\n",
       "      <th>0.10</th>\n",
       "      <td>7.000</td>\n",
       "      <td>3558.10</td>\n",
       "      <td>1859.00</td>\n",
       "      <td>0.51240</td>\n",
       "      <td>462.80</td>\n",
       "    </tr>\n",
       "    <tr>\n",
       "      <th>0.15</th>\n",
       "      <td>7.000</td>\n",
       "      <td>3635.25</td>\n",
       "      <td>2304.45</td>\n",
       "      <td>0.51835</td>\n",
       "      <td>467.20</td>\n",
       "    </tr>\n",
       "    <tr>\n",
       "      <th>0.25</th>\n",
       "      <td>7.000</td>\n",
       "      <td>3739.00</td>\n",
       "      <td>3110.25</td>\n",
       "      <td>0.52975</td>\n",
       "      <td>509.50</td>\n",
       "    </tr>\n",
       "    <tr>\n",
       "      <th>0.50</th>\n",
       "      <td>7.500</td>\n",
       "      <td>4298.00</td>\n",
       "      <td>4735.50</td>\n",
       "      <td>0.56450</td>\n",
       "      <td>568.50</td>\n",
       "    </tr>\n",
       "    <tr>\n",
       "      <th>0.80</th>\n",
       "      <td>8.500</td>\n",
       "      <td>4776.60</td>\n",
       "      <td>8029.00</td>\n",
       "      <td>0.60600</td>\n",
       "      <td>640.00</td>\n",
       "    </tr>\n",
       "    <tr>\n",
       "      <th>0.85</th>\n",
       "      <td>9.000</td>\n",
       "      <td>4895.65</td>\n",
       "      <td>8507.95</td>\n",
       "      <td>0.62585</td>\n",
       "      <td>647.80</td>\n",
       "    </tr>\n",
       "    <tr>\n",
       "      <th>0.90</th>\n",
       "      <td>9.000</td>\n",
       "      <td>5039.20</td>\n",
       "      <td>9280.90</td>\n",
       "      <td>0.66300</td>\n",
       "      <td>700.50</td>\n",
       "    </tr>\n",
       "    <tr>\n",
       "      <th>0.95</th>\n",
       "      <td>9.000</td>\n",
       "      <td>5183.85</td>\n",
       "      <td>11333.20</td>\n",
       "      <td>0.67200</td>\n",
       "      <td>758.20</td>\n",
       "    </tr>\n",
       "    <tr>\n",
       "      <th>0.99</th>\n",
       "      <td>9.530</td>\n",
       "      <td>5331.19</td>\n",
       "      <td>16091.88</td>\n",
       "      <td>0.70191</td>\n",
       "      <td>919.59</td>\n",
       "    </tr>\n",
       "    <tr>\n",
       "      <th>1.00</th>\n",
       "      <td>10.000</td>\n",
       "      <td>5342.00</td>\n",
       "      <td>17782.00</td>\n",
       "      <td>0.72400</td>\n",
       "      <td>968.00</td>\n",
       "    </tr>\n",
       "  </tbody>\n",
       "</table>\n",
       "</div>"
      ],
      "text/plain": [
       "      Petrol_tax  Average_income  Paved_Highways  \\\n",
       "0.01       5.470         3189.90          511.37   \n",
       "0.05       6.727         3388.85         1279.05   \n",
       "0.10       7.000         3558.10         1859.00   \n",
       "0.15       7.000         3635.25         2304.45   \n",
       "0.25       7.000         3739.00         3110.25   \n",
       "0.50       7.500         4298.00         4735.50   \n",
       "0.80       8.500         4776.60         8029.00   \n",
       "0.85       9.000         4895.65         8507.95   \n",
       "0.90       9.000         5039.20         9280.90   \n",
       "0.95       9.000         5183.85        11333.20   \n",
       "0.99       9.530         5331.19        16091.88   \n",
       "1.00      10.000         5342.00        17782.00   \n",
       "\n",
       "      Population_Driver_licence(%)  Petrol_Consumption  \n",
       "0.01                       0.46792              375.02  \n",
       "0.05                       0.49825              429.05  \n",
       "0.10                       0.51240              462.80  \n",
       "0.15                       0.51835              467.20  \n",
       "0.25                       0.52975              509.50  \n",
       "0.50                       0.56450              568.50  \n",
       "0.80                       0.60600              640.00  \n",
       "0.85                       0.62585              647.80  \n",
       "0.90                       0.66300              700.50  \n",
       "0.95                       0.67200              758.20  \n",
       "0.99                       0.70191              919.59  \n",
       "1.00                       0.72400              968.00  "
      ]
     },
     "execution_count": 12,
     "metadata": {},
     "output_type": "execute_result"
    }
   ],
   "source": [
    "#percentile of each Predictors\n",
    "data.quantile([0.01,.05,.10,.15 ,.25,.5,.8,.85,0.9,.95,.99,1])"
   ]
  },
  {
   "cell_type": "markdown",
   "metadata": {},
   "source": [
    "#  Visualizing Data with Pairs Plots"
   ]
  },
  {
   "cell_type": "code",
   "execution_count": 13,
   "metadata": {},
   "outputs": [
    {
     "data": {
      "image/png": "[encoded data removed]",
      "text/plain": [
       "<Figure size 900x900 with 30 Axes>"
      ]
     },
     "metadata": {
      "needs_background": "light"
     },
     "output_type": "display_data"
    }
   ],
   "source": [
    "sns.pairplot(data)\n",
    "plt.show()"
   ]
  },
  {
   "cell_type": "markdown",
   "metadata": {},
   "source": [
    "# Preparing the Data\n",
    "\n",
    "As with the Regression task, in this section we will divide our data into attributes and labels and consequently into training and test sets.\n",
    "\n",
    "Execute the following commands to divide data into labels and attributes:"
   ]
  },
  {
   "cell_type": "code",
   "execution_count": 14,
   "metadata": {},
   "outputs": [],
   "source": [
    "predictors=data.drop(\"Petrol_Consumption\", axis=1)\n",
    "response=data['Petrol_Consumption']"
   ]
  },
  {
   "cell_type": "markdown",
   "metadata": {},
   "source": [
    "Here the predictors variable contains all the columns from the dataset, except 'Petrol_Consumption' column, which is the label. The response variable contains values from the 'Petrol_Consumption' column, which means that the predictors variable contains the attribute set and response variable contains the corresponding labels."
   ]
  },
  {
   "cell_type": "markdown",
   "metadata": {},
   "source": [
    "Execute the following code to divide our data into training and test sets:"
   ]
  },
  {
   "cell_type": "code",
   "execution_count": 442,
   "metadata": {},
   "outputs": [],
   "source": [
    "from sklearn.model_selection import train_test_split  \n",
    "X_train, X_test, y_train, y_test = train_test_split(predictors, response, test_size=0.20, random_state=764) "
   ]
  },
  {
   "cell_type": "markdown",
   "metadata": {},
   "source": [
    "# Training and Making Predictions"
   ]
  },
  {
   "cell_type": "markdown",
   "metadata": {},
   "source": [
    "As mentioned earlier, for a regression task we'll use a different sklearn class than we did for the regression task. The class we'll be using here is the DecisionTreeRegressor class, as opposed to the DecisionTreeClassifier from before.\n",
    "\n",
    "To train the tree, we'll instantiate the DecisionTreeRegressor class and call the fit method:"
   ]
  },
  {
   "cell_type": "code",
   "execution_count": 443,
   "metadata": {},
   "outputs": [],
   "source": [
    "from sklearn.tree import DecisionTreeRegressor\n",
    "tree = DecisionTreeRegressor(max_depth=2)"
   ]
  },
  {
   "cell_type": "code",
   "execution_count": 444,
   "metadata": {},
   "outputs": [
    {
     "data": {
      "text/plain": [
       "DecisionTreeRegressor(criterion='mse', max_depth=2, max_features=None,\n",
       "           max_leaf_nodes=None, min_impurity_decrease=0.0,\n",
       "           min_impurity_split=None, min_samples_leaf=1,\n",
       "           min_samples_split=2, min_weight_fraction_leaf=0.0,\n",
       "           presort=False, random_state=None, splitter='best')"
      ]
     },
     "execution_count": 444,
     "metadata": {},
     "output_type": "execute_result"
    }
   ],
   "source": [
    "tree.fit(X_train, y_train)"
   ]
  },
  {
   "cell_type": "markdown",
   "metadata": {},
   "source": [
    "To make predictions on the test set, ues the predict method:"
   ]
  },
  {
   "cell_type": "code",
   "execution_count": 445,
   "metadata": {},
   "outputs": [],
   "source": [
    "predictions = tree.predict(X_test)"
   ]
  },
  {
   "cell_type": "code",
   "execution_count": 446,
   "metadata": {},
   "outputs": [
    {
     "data": {
      "text/plain": [
       "array([590.84, 487.8 , 487.8 , 487.8 , 487.8 ])"
      ]
     },
     "execution_count": 446,
     "metadata": {},
     "output_type": "execute_result"
    }
   ],
   "source": [
    "predictions[:5]"
   ]
  },
  {
   "cell_type": "code",
   "execution_count": 447,
   "metadata": {},
   "outputs": [
    {
     "data": {
      "text/plain": [
       "43    591\n",
       "11    471\n",
       "5     457\n",
       "24    460\n",
       "7     467\n",
       "Name: Petrol_Consumption, dtype: int64"
      ]
     },
     "execution_count": 447,
     "metadata": {},
     "output_type": "execute_result"
    }
   ],
   "source": [
    "y_test[:5]"
   ]
  },
  {
   "cell_type": "markdown",
   "metadata": {},
   "source": [
    "Now let's compare some of our predicted values with the actual values and see how accurate we were"
   ]
  },
  {
   "cell_type": "code",
   "execution_count": 448,
   "metadata": {},
   "outputs": [
    {
     "data": {
      "text/html": [
       "<div>\n",
       "<style scoped>\n",
       "    .dataframe tbody tr th:only-of-type {\n",
       "        vertical-align: middle;\n",
       "    }\n",
       "\n",
       "    .dataframe tbody tr th {\n",
       "        vertical-align: top;\n",
       "    }\n",
       "\n",
       "    .dataframe thead th {\n",
       "        text-align: right;\n",
       "    }\n",
       "</style>\n",
       "<table border=\"1\" class=\"dataframe\">\n",
       "  <thead>\n",
       "    <tr style=\"text-align: right;\">\n",
       "      <th></th>\n",
       "      <th>Actual</th>\n",
       "      <th>Predicted</th>\n",
       "    </tr>\n",
       "  </thead>\n",
       "  <tbody>\n",
       "    <tr>\n",
       "      <th>43</th>\n",
       "      <td>591</td>\n",
       "      <td>590.84</td>\n",
       "    </tr>\n",
       "    <tr>\n",
       "      <th>11</th>\n",
       "      <td>471</td>\n",
       "      <td>487.80</td>\n",
       "    </tr>\n",
       "    <tr>\n",
       "      <th>5</th>\n",
       "      <td>457</td>\n",
       "      <td>487.80</td>\n",
       "    </tr>\n",
       "    <tr>\n",
       "      <th>24</th>\n",
       "      <td>460</td>\n",
       "      <td>487.80</td>\n",
       "    </tr>\n",
       "    <tr>\n",
       "      <th>7</th>\n",
       "      <td>467</td>\n",
       "      <td>487.80</td>\n",
       "    </tr>\n",
       "    <tr>\n",
       "      <th>35</th>\n",
       "      <td>644</td>\n",
       "      <td>590.84</td>\n",
       "    </tr>\n",
       "    <tr>\n",
       "      <th>40</th>\n",
       "      <td>587</td>\n",
       "      <td>487.80</td>\n",
       "    </tr>\n",
       "    <tr>\n",
       "      <th>36</th>\n",
       "      <td>640</td>\n",
       "      <td>590.84</td>\n",
       "    </tr>\n",
       "    <tr>\n",
       "      <th>44</th>\n",
       "      <td>782</td>\n",
       "      <td>916.50</td>\n",
       "    </tr>\n",
       "    <tr>\n",
       "      <th>8</th>\n",
       "      <td>464</td>\n",
       "      <td>487.80</td>\n",
       "    </tr>\n",
       "  </tbody>\n",
       "</table>\n",
       "</div>"
      ],
      "text/plain": [
       "    Actual  Predicted\n",
       "43     591     590.84\n",
       "11     471     487.80\n",
       "5      457     487.80\n",
       "24     460     487.80\n",
       "7      467     487.80\n",
       "35     644     590.84\n",
       "40     587     487.80\n",
       "36     640     590.84\n",
       "44     782     916.50\n",
       "8      464     487.80"
      ]
     },
     "execution_count": 448,
     "metadata": {},
     "output_type": "execute_result"
    }
   ],
   "source": [
    "df=pd.DataFrame({'Actual':y_test, 'Predicted':predictions})  \n",
    "df  "
   ]
  },
  {
   "cell_type": "markdown",
   "metadata": {},
   "source": [
    "Remember that in your case the records compared may be different, depending upon the training and testing split. Since the train_test_split method randomly splits the data we likely won't have the same training and test sets."
   ]
  },
  {
   "cell_type": "markdown",
   "metadata": {},
   "source": [
    "# Evaluating the Algorithm\n",
    "\n",
    "To evaluate performance of the regression algorithm, the commonly used metrics are mean absolute error, mean squared error, and root mean squared error. The Scikit-Learn library contains functions that can help calculate these values for us. To do so, use this code from the metrics package:"
   ]
  },
  {
   "cell_type": "code",
   "execution_count": 449,
   "metadata": {},
   "outputs": [
    {
     "name": "stdout",
     "output_type": "stream",
     "text": [
      "Mean Absolute Error: 45.617999999999995\n",
      "Mean Squared Error: 3617.6406799999995\n",
      "Root Mean Squared Error: 60.14682601767112\n"
     ]
    }
   ],
   "source": [
    "from sklearn import metrics  \n",
    "print('Mean Absolute Error:', metrics.mean_absolute_error(y_test, predictions))  \n",
    "print('Mean Squared Error:', metrics.mean_squared_error(y_test, predictions))  \n",
    "print('Root Mean Squared Error:', np.sqrt(metrics.mean_squared_error(y_test, predictions)))\n"
   ]
  },
  {
   "cell_type": "code",
   "execution_count": 450,
   "metadata": {},
   "outputs": [
    {
     "name": "stdout",
     "output_type": "stream",
     "text": [
      "r2-score 0.67316805690946\n"
     ]
    }
   ],
   "source": [
    "print('r2-score',metrics.r2_score(y_test, predictions))"
   ]
  },
  {
   "cell_type": "markdown",
   "metadata": {},
   "source": [
    "First,we import graphviz from sklearn for tree diagram, we export the tree output to a dot format object."
   ]
  },
  {
   "cell_type": "code",
   "execution_count": 451,
   "metadata": {},
   "outputs": [],
   "source": [
    "from sklearn.tree import export_graphviz"
   ]
  },
  {
   "cell_type": "code",
   "execution_count": 452,
   "metadata": {},
   "outputs": [],
   "source": [
    "dot_data = export_graphviz(tree, filled=True, rounded=True, feature_names=['Petrol_tax','Average_income','Paved_Highways','Population_Driver_licence(%)'], out_file=None)"
   ]
  },
  {
   "cell_type": "markdown",
   "metadata": {},
   "source": [
    "Next, we use graphviz to plot the dot data as a decision tree."
   ]
  },
  {
   "cell_type": "code",
   "execution_count": 453,
   "metadata": {},
   "outputs": [
    {
     "data": {
      "image/svg+xml": [
       "<?xml version=\"1.0\" encoding=\"UTF-8\" standalone=\"no\"?>\n",
       "<!DOCTYPE svg PUBLIC \"-//W3C//DTD SVG 1.1//EN\"\n",
       " \"http://www.w3.org/Graphics/SVG/1.1/DTD/svg11.dtd\">\n",
       "<!-- Generated by graphviz version 2.40.1 (20161225.0304)\n",
       " -->\n",
       "<!-- Title: Tree Pages: 1 -->\n",
       "<svg width=\"530pt\" height=\"269pt\"\n",
       " viewBox=\"0.00 0.00 530.00 269.00\" xmlns=\"http://www.w3.org/2000/svg\" xmlns:xlink=\"http://www.w3.org/1999/xlink\">\n",
       "<g id=\"graph0\" class=\"graph\" transform=\"scale(1 1) rotate(0) translate(4 265)\">\n",
       "<title>Tree</title>\n",
       "<polygon fill=\"#ffffff\" stroke=\"transparent\" points=\"-4,4 -4,-265 526,-265 526,4 -4,4\"/>\n",
       "<!-- 0 -->\n",
       "<g id=\"node1\" class=\"node\">\n",
       "<title>0</title>\n",
       "<path fill=\"#e58139\" fill-opacity=\"0.219608\" stroke=\"#000000\" d=\"M381,-261C381,-261 152,-261 152,-261 146,-261 140,-255 140,-249 140,-249 140,-205 140,-205 140,-199 146,-193 152,-193 152,-193 381,-193 381,-193 387,-193 393,-199 393,-205 393,-205 393,-249 393,-249 393,-255 387,-261 381,-261\"/>\n",
       "<text text-anchor=\"middle\" x=\"266.5\" y=\"-245.8\" font-family=\"Helvetica,sans-Serif\" font-size=\"14.00\" fill=\"#000000\">Population_Driver_licence(%) &lt;= 0.667</text>\n",
       "<text text-anchor=\"middle\" x=\"266.5\" y=\"-230.8\" font-family=\"Helvetica,sans-Serif\" font-size=\"14.00\" fill=\"#000000\">mse = 12431.186</text>\n",
       "<text text-anchor=\"middle\" x=\"266.5\" y=\"-215.8\" font-family=\"Helvetica,sans-Serif\" font-size=\"14.00\" fill=\"#000000\">samples = 38</text>\n",
       "<text text-anchor=\"middle\" x=\"266.5\" y=\"-200.8\" font-family=\"Helvetica,sans-Serif\" font-size=\"14.00\" fill=\"#000000\">value = 582.158</text>\n",
       "</g>\n",
       "<!-- 1 -->\n",
       "<g id=\"node2\" class=\"node\">\n",
       "<title>1</title>\n",
       "<path fill=\"#e58139\" fill-opacity=\"0.172549\" stroke=\"#000000\" d=\"M245.5,-157C245.5,-157 85.5,-157 85.5,-157 79.5,-157 73.5,-151 73.5,-145 73.5,-145 73.5,-101 73.5,-101 73.5,-95 79.5,-89 85.5,-89 85.5,-89 245.5,-89 245.5,-89 251.5,-89 257.5,-95 257.5,-101 257.5,-101 257.5,-145 257.5,-145 257.5,-151 251.5,-157 245.5,-157\"/>\n",
       "<text text-anchor=\"middle\" x=\"165.5\" y=\"-141.8\" font-family=\"Helvetica,sans-Serif\" font-size=\"14.00\" fill=\"#000000\">Average_income &lt;= 4395.0</text>\n",
       "<text text-anchor=\"middle\" x=\"165.5\" y=\"-126.8\" font-family=\"Helvetica,sans-Serif\" font-size=\"14.00\" fill=\"#000000\">mse = 6430.983</text>\n",
       "<text text-anchor=\"middle\" x=\"165.5\" y=\"-111.8\" font-family=\"Helvetica,sans-Serif\" font-size=\"14.00\" fill=\"#000000\">samples = 35</text>\n",
       "<text text-anchor=\"middle\" x=\"165.5\" y=\"-96.8\" font-family=\"Helvetica,sans-Serif\" font-size=\"14.00\" fill=\"#000000\">value = 561.4</text>\n",
       "</g>\n",
       "<!-- 0&#45;&gt;1 -->\n",
       "<g id=\"edge1\" class=\"edge\">\n",
       "<title>0&#45;&gt;1</title>\n",
       "<path fill=\"none\" stroke=\"#000000\" d=\"M233.4288,-192.9465C224.6221,-183.8782 215.0093,-173.9799 205.8597,-164.5585\"/>\n",
       "<polygon fill=\"#000000\" stroke=\"#000000\" points=\"208.1232,-161.8654 198.6455,-157.13 203.1015,-166.7422 208.1232,-161.8654\"/>\n",
       "<text text-anchor=\"middle\" x=\"198.2797\" y=\"-178.4273\" font-family=\"Helvetica,sans-Serif\" font-size=\"14.00\" fill=\"#000000\">True</text>\n",
       "</g>\n",
       "<!-- 4 -->\n",
       "<g id=\"node5\" class=\"node\">\n",
       "<title>4</title>\n",
       "<path fill=\"#e58139\" fill-opacity=\"0.784314\" stroke=\"#000000\" d=\"M447.5,-157C447.5,-157 287.5,-157 287.5,-157 281.5,-157 275.5,-151 275.5,-145 275.5,-145 275.5,-101 275.5,-101 275.5,-95 281.5,-89 287.5,-89 287.5,-89 447.5,-89 447.5,-89 453.5,-89 459.5,-95 459.5,-101 459.5,-101 459.5,-145 459.5,-145 459.5,-151 453.5,-157 447.5,-157\"/>\n",
       "<text text-anchor=\"middle\" x=\"367.5\" y=\"-141.8\" font-family=\"Helvetica,sans-Serif\" font-size=\"14.00\" fill=\"#000000\">Average_income &lt;= 4343.0</text>\n",
       "<text text-anchor=\"middle\" x=\"367.5\" y=\"-126.8\" font-family=\"Helvetica,sans-Serif\" font-size=\"14.00\" fill=\"#000000\">mse = 18757.556</text>\n",
       "<text text-anchor=\"middle\" x=\"367.5\" y=\"-111.8\" font-family=\"Helvetica,sans-Serif\" font-size=\"14.00\" fill=\"#000000\">samples = 3</text>\n",
       "<text text-anchor=\"middle\" x=\"367.5\" y=\"-96.8\" font-family=\"Helvetica,sans-Serif\" font-size=\"14.00\" fill=\"#000000\">value = 824.333</text>\n",
       "</g>\n",
       "<!-- 0&#45;&gt;4 -->\n",
       "<g id=\"edge4\" class=\"edge\">\n",
       "<title>0&#45;&gt;4</title>\n",
       "<path fill=\"none\" stroke=\"#000000\" d=\"M299.5712,-192.9465C308.3779,-183.8782 317.9907,-173.9799 327.1403,-164.5585\"/>\n",
       "<polygon fill=\"#000000\" stroke=\"#000000\" points=\"329.8985,-166.7422 334.3545,-157.13 324.8768,-161.8654 329.8985,-166.7422\"/>\n",
       "<text text-anchor=\"middle\" x=\"334.7203\" y=\"-178.4273\" font-family=\"Helvetica,sans-Serif\" font-size=\"14.00\" fill=\"#000000\">False</text>\n",
       "</g>\n",
       "<!-- 2 -->\n",
       "<g id=\"node3\" class=\"node\">\n",
       "<title>2</title>\n",
       "<path fill=\"#e58139\" fill-opacity=\"0.239216\" stroke=\"#000000\" d=\"M103,-53C103,-53 12,-53 12,-53 6,-53 0,-47 0,-41 0,-41 0,-12 0,-12 0,-6 6,0 12,0 12,0 103,0 103,0 109,0 115,-6 115,-12 115,-12 115,-41 115,-41 115,-47 109,-53 103,-53\"/>\n",
       "<text text-anchor=\"middle\" x=\"57.5\" y=\"-37.8\" font-family=\"Helvetica,sans-Serif\" font-size=\"14.00\" fill=\"#000000\">mse = 3380.054</text>\n",
       "<text text-anchor=\"middle\" x=\"57.5\" y=\"-22.8\" font-family=\"Helvetica,sans-Serif\" font-size=\"14.00\" fill=\"#000000\">samples = 25</text>\n",
       "<text text-anchor=\"middle\" x=\"57.5\" y=\"-7.8\" font-family=\"Helvetica,sans-Serif\" font-size=\"14.00\" fill=\"#000000\">value = 590.84</text>\n",
       "</g>\n",
       "<!-- 1&#45;&gt;2 -->\n",
       "<g id=\"edge2\" class=\"edge\">\n",
       "<title>1&#45;&gt;2</title>\n",
       "<path fill=\"none\" stroke=\"#000000\" d=\"M127.4232,-88.9777C116.8676,-79.546 105.4204,-69.3178 94.9036,-59.9208\"/>\n",
       "<polygon fill=\"#000000\" stroke=\"#000000\" points=\"97.2251,-57.3015 87.4361,-53.2485 92.561,-62.5213 97.2251,-57.3015\"/>\n",
       "</g>\n",
       "<!-- 3 -->\n",
       "<g id=\"node4\" class=\"node\">\n",
       "<title>3</title>\n",
       "<path fill=\"transparent\" stroke=\"#000000\" d=\"M228,-53C228,-53 145,-53 145,-53 139,-53 133,-47 133,-41 133,-41 133,-12 133,-12 133,-6 139,0 145,0 145,0 228,0 228,0 234,0 240,-6 240,-12 240,-12 240,-41 240,-41 240,-47 234,-53 228,-53\"/>\n",
       "<text text-anchor=\"middle\" x=\"186.5\" y=\"-37.8\" font-family=\"Helvetica,sans-Serif\" font-size=\"14.00\" fill=\"#000000\">mse = 6474.56</text>\n",
       "<text text-anchor=\"middle\" x=\"186.5\" y=\"-22.8\" font-family=\"Helvetica,sans-Serif\" font-size=\"14.00\" fill=\"#000000\">samples = 10</text>\n",
       "<text text-anchor=\"middle\" x=\"186.5\" y=\"-7.8\" font-family=\"Helvetica,sans-Serif\" font-size=\"14.00\" fill=\"#000000\">value = 487.8</text>\n",
       "</g>\n",
       "<!-- 1&#45;&gt;3 -->\n",
       "<g id=\"edge3\" class=\"edge\">\n",
       "<title>1&#45;&gt;3</title>\n",
       "<path fill=\"none\" stroke=\"#000000\" d=\"M172.9038,-88.9777C174.7172,-80.6449 176.6659,-71.6903 178.5055,-63.2364\"/>\n",
       "<polygon fill=\"#000000\" stroke=\"#000000\" points=\"181.9726,-63.7641 180.6791,-53.2485 175.1327,-62.2755 181.9726,-63.7641\"/>\n",
       "</g>\n",
       "<!-- 5 -->\n",
       "<g id=\"node6\" class=\"node\">\n",
       "<title>5</title>\n",
       "<path fill=\"#e58139\" fill-opacity=\"0.356863\" stroke=\"#000000\" d=\"M384.5,-53C384.5,-53 310.5,-53 310.5,-53 304.5,-53 298.5,-47 298.5,-41 298.5,-41 298.5,-12 298.5,-12 298.5,-6 304.5,0 310.5,0 310.5,0 384.5,0 384.5,0 390.5,0 396.5,-6 396.5,-12 396.5,-12 396.5,-41 396.5,-41 396.5,-47 390.5,-53 384.5,-53\"/>\n",
       "<text text-anchor=\"middle\" x=\"347.5\" y=\"-37.8\" font-family=\"Helvetica,sans-Serif\" font-size=\"14.00\" fill=\"#000000\">mse = 0.0</text>\n",
       "<text text-anchor=\"middle\" x=\"347.5\" y=\"-22.8\" font-family=\"Helvetica,sans-Serif\" font-size=\"14.00\" fill=\"#000000\">samples = 1</text>\n",
       "<text text-anchor=\"middle\" x=\"347.5\" y=\"-7.8\" font-family=\"Helvetica,sans-Serif\" font-size=\"14.00\" fill=\"#000000\">value = 640.0</text>\n",
       "</g>\n",
       "<!-- 4&#45;&gt;5 -->\n",
       "<g id=\"edge5\" class=\"edge\">\n",
       "<title>4&#45;&gt;5</title>\n",
       "<path fill=\"none\" stroke=\"#000000\" d=\"M360.4487,-88.9777C358.7217,-80.6449 356.8659,-71.6903 355.1138,-63.2364\"/>\n",
       "<polygon fill=\"#000000\" stroke=\"#000000\" points=\"358.5004,-62.3301 353.0437,-53.2485 351.646,-63.7507 358.5004,-62.3301\"/>\n",
       "</g>\n",
       "<!-- 6 -->\n",
       "<g id=\"node7\" class=\"node\">\n",
       "<title>6</title>\n",
       "<path fill=\"#e58139\" stroke=\"#000000\" d=\"M510,-53C510,-53 427,-53 427,-53 421,-53 415,-47 415,-41 415,-41 415,-12 415,-12 415,-6 421,0 427,0 427,0 510,0 510,0 516,0 522,-6 522,-12 522,-12 522,-41 522,-41 522,-47 516,-53 510,-53\"/>\n",
       "<text text-anchor=\"middle\" x=\"468.5\" y=\"-37.8\" font-family=\"Helvetica,sans-Serif\" font-size=\"14.00\" fill=\"#000000\">mse = 2652.25</text>\n",
       "<text text-anchor=\"middle\" x=\"468.5\" y=\"-22.8\" font-family=\"Helvetica,sans-Serif\" font-size=\"14.00\" fill=\"#000000\">samples = 2</text>\n",
       "<text text-anchor=\"middle\" x=\"468.5\" y=\"-7.8\" font-family=\"Helvetica,sans-Serif\" font-size=\"14.00\" fill=\"#000000\">value = 916.5</text>\n",
       "</g>\n",
       "<!-- 4&#45;&gt;6 -->\n",
       "<g id=\"edge6\" class=\"edge\">\n",
       "<title>4&#45;&gt;6</title>\n",
       "<path fill=\"none\" stroke=\"#000000\" d=\"M403.1088,-88.9777C412.8845,-79.6376 423.4777,-69.5163 433.234,-60.1947\"/>\n",
       "<polygon fill=\"#000000\" stroke=\"#000000\" points=\"435.6917,-62.6873 440.5042,-53.2485 430.856,-57.6261 435.6917,-62.6873\"/>\n",
       "</g>\n",
       "</g>\n",
       "</svg>\n"
      ],
      "text/plain": [
       "<graphviz.files.Source at 0x7f4decf832e8>"
      ]
     },
     "execution_count": 453,
     "metadata": {},
     "output_type": "execute_result"
    }
   ],
   "source": [
    "import graphviz\n",
    "graphviz.Source(dot_data)"
   ]
  },
  {
   "cell_type": "markdown",
   "metadata": {},
   "source": [
    "# Summary \n",
    "\n",
    "Using Decision Trees to build a regressor for the give data.\n",
    "\n",
    "Mean Absolute Error      : 45.617999999999995\n",
    "\n",
    "Mean Squared Error       : 3617.6406799999995\n",
    "\n",
    "Root Mean Squared Error  : 60.14682601767112\n",
    "\n",
    "R2-score                 : 0.67316805690946\n",
    "\n",
    "\n",
    "# Tree Diagram Interpretation with their conditons\n",
    "\n",
    "\n",
    "**The decision tree with max_depth 2 and all Features.\n",
    "\n",
    "**The dataset with one target(Petrol_consumption) and four features('Petrol_tax','Average_income','Paved_Highways','Population_Driver_licence(%)')\n",
    "\n",
    "**Now,By calculating the mean square error between two corresponding features with respetive to all combinations which have more information gain will considered as root for the Decison Tree.here, Population_Driver_licence <= 0.667 and mse 12431.186,samples 38,value 582.158.\n",
    "\n",
    "**The root has 2 decision branches Average_income <= 4395.0,mse 6430.983,sample 35,value 561.4 and Average_income <= 4343.0,mse 18757.556,sample 3,value 824.323\n",
    "\n",
    "**Decision branch  Average_income <= 4395.0 have 2 leaf nodes left and right with mse 3380.054,6474.56 ,sample 25,10,value 590.84,487.8.\n",
    "\n",
    "**Decision branch  Average_income <= 4343.0 have 2 leaf nodes left and right mse 0.0,2652.25,samples 1,2 , values 640.0,916.5\n",
    "\n",
    "\n"
   ]
  },
  {
   "cell_type": "markdown",
   "metadata": {},
   "source": [
    "We see that on the terminal nodes (i.e. leaves) the model outputs one of the four values for all the predictions. We can also confirm this with the below code by looking at the predicted unique values."
   ]
  },
  {
   "cell_type": "code",
   "execution_count": 454,
   "metadata": {},
   "outputs": [],
   "source": [
    "import numpy as np"
   ]
  },
  {
   "cell_type": "code",
   "execution_count": 455,
   "metadata": {},
   "outputs": [
    {
     "data": {
      "text/plain": [
       "array([487.8 , 590.84, 916.5 ])"
      ]
     },
     "execution_count": 455,
     "metadata": {},
     "output_type": "execute_result"
    }
   ],
   "source": [
    "np.unique(predictions)"
   ]
  },
  {
   "cell_type": "markdown",
   "metadata": {},
   "source": [
    "Decision Trees on their own are very simple models, which do not provide as accurate predictions as some of the other models can. However, as we will see later, other models such as XGB, Random Forest etc. use Decision Trees to give highly accurate predictions."
   ]
  },
  {
   "cell_type": "markdown",
   "metadata": {},
   "source": [
    "We can also export the graph to other formats like png, pdf etc. by using pydotplus package."
   ]
  },
  {
   "cell_type": "code",
   "execution_count": 456,
   "metadata": {},
   "outputs": [],
   "source": [
    "from pydotplus import graph_from_dot_data"
   ]
  },
  {
   "cell_type": "code",
   "execution_count": 457,
   "metadata": {},
   "outputs": [],
   "source": [
    "graph = graph_from_dot_data(dot_data)"
   ]
  },
  {
   "cell_type": "code",
   "execution_count": 458,
   "metadata": {},
   "outputs": [
    {
     "data": {
      "text/plain": [
       "True"
      ]
     },
     "execution_count": 458,
     "metadata": {},
     "output_type": "execute_result"
    }
   ],
   "source": [
    "graph.write_png(\"Regressor_tree.png\")"
   ]
  },
  {
   "cell_type": "markdown",
   "metadata": {},
   "source": [
    "#  Regression using Decision Tree with GridSearch and Cross-Validation\n",
    "\n",
    "\n",
    "Import Decision Tree Regressor, and GridSearchCV and fit the model to the training data.\n"
   ]
  },
  {
   "cell_type": "code",
   "execution_count": 459,
   "metadata": {},
   "outputs": [],
   "source": [
    "from sklearn.tree import DecisionTreeRegressor\n",
    "from sklearn.model_selection import GridSearchCV"
   ]
  },
  {
   "cell_type": "markdown",
   "metadata": {},
   "source": [
    "Let's use GridSearchCV to try max_depth values 3,4,5,6,None and 1,2,3,4 value for max_features hyperparameters. Specify 10 number of folds.\n"
   ]
  },
  {
   "cell_type": "code",
   "execution_count": 587,
   "metadata": {},
   "outputs": [],
   "source": [
    "param_grid = [{\"max_depth\":[3,4,5, 6, None], \"max_features\":[3,4]}]"
   ]
  },
  {
   "cell_type": "markdown",
   "metadata": {},
   "source": [
    "Now using the decisionTreeRegression with randon value 999"
   ]
  },
  {
   "cell_type": "code",
   "execution_count": 643,
   "metadata": {},
   "outputs": [],
   "source": [
    "gs = GridSearchCV(estimator=DecisionTreeRegressor(random_state=93),\\\n",
    "                 param_grid = param_grid,\\\n",
    "                 cv=10)"
   ]
  },
  {
   "cell_type": "markdown",
   "metadata": {},
   "source": [
    "Fit the training data"
   ]
  },
  {
   "cell_type": "code",
   "execution_count": 644,
   "metadata": {},
   "outputs": [
    {
     "name": "stderr",
     "output_type": "stream",
     "text": [
      "/home/qolsys/anaconda3/lib/python3.7/site-packages/sklearn/model_selection/_search.py:841: DeprecationWarning: The default of the `iid` parameter will change from True to False in version 0.22 and will be removed in 0.24. This will change numeric results when test-set sizes are unequal.\n",
      "  DeprecationWarning)\n"
     ]
    },
    {
     "data": {
      "text/plain": [
       "GridSearchCV(cv=10, error_score='raise-deprecating',\n",
       "       estimator=DecisionTreeRegressor(criterion='mse', max_depth=None, max_features=None,\n",
       "           max_leaf_nodes=None, min_impurity_decrease=0.0,\n",
       "           min_impurity_split=None, min_samples_leaf=1,\n",
       "           min_samples_split=2, min_weight_fraction_leaf=0.0,\n",
       "           presort=False, random_state=93, splitter='best'),\n",
       "       fit_params=None, iid='warn', n_jobs=None,\n",
       "       param_grid=[{'max_depth': [3, 4, 5, 6, None], 'max_features': [3, 4]}],\n",
       "       pre_dispatch='2*n_jobs', refit=True, return_train_score='warn',\n",
       "       scoring=None, verbose=0)"
      ]
     },
     "execution_count": 644,
     "metadata": {},
     "output_type": "execute_result"
    }
   ],
   "source": [
    "gs.fit(X_train, y_train)"
   ]
  },
  {
   "cell_type": "markdown",
   "metadata": {},
   "source": [
    "Print out all the hyperparameters combinations that the GridSearchCV has tried."
   ]
  },
  {
   "cell_type": "code",
   "execution_count": 645,
   "metadata": {},
   "outputs": [
    {
     "data": {
      "text/plain": [
       "[{'max_depth': 3, 'max_features': 3},\n",
       " {'max_depth': 3, 'max_features': 4},\n",
       " {'max_depth': 4, 'max_features': 3},\n",
       " {'max_depth': 4, 'max_features': 4},\n",
       " {'max_depth': 5, 'max_features': 3},\n",
       " {'max_depth': 5, 'max_features': 4},\n",
       " {'max_depth': 6, 'max_features': 3},\n",
       " {'max_depth': 6, 'max_features': 4},\n",
       " {'max_depth': None, 'max_features': 3},\n",
       " {'max_depth': None, 'max_features': 4}]"
      ]
     },
     "execution_count": 645,
     "metadata": {},
     "output_type": "execute_result"
    }
   ],
   "source": [
    "gs.cv_results_['params']"
   ]
  },
  {
   "cell_type": "markdown",
   "metadata": {},
   "source": [
    "Print best hyperparameters combination"
   ]
  },
  {
   "cell_type": "code",
   "execution_count": 646,
   "metadata": {},
   "outputs": [
    {
     "data": {
      "text/plain": [
       "{'max_depth': 5, 'max_features': 4}"
      ]
     },
     "execution_count": 646,
     "metadata": {},
     "output_type": "execute_result"
    }
   ],
   "source": [
    "gs.best_params_"
   ]
  },
  {
   "cell_type": "markdown",
   "metadata": {},
   "source": [
    "print the rank for all of the tried combinations."
   ]
  },
  {
   "cell_type": "code",
   "execution_count": 647,
   "metadata": {},
   "outputs": [
    {
     "data": {
      "text/plain": [
       "array([ 8,  5,  6,  2,  9,  1,  7,  3, 10,  4], dtype=int32)"
      ]
     },
     "execution_count": 647,
     "metadata": {},
     "output_type": "execute_result"
    }
   ],
   "source": [
    "gs.cv_results_['rank_test_score']"
   ]
  },
  {
   "cell_type": "markdown",
   "metadata": {},
   "source": [
    "Print the complete DecisionTree estimator."
   ]
  },
  {
   "cell_type": "code",
   "execution_count": 648,
   "metadata": {},
   "outputs": [
    {
     "data": {
      "text/plain": [
       "DecisionTreeRegressor(criterion='mse', max_depth=5, max_features=4,\n",
       "           max_leaf_nodes=None, min_impurity_decrease=0.0,\n",
       "           min_impurity_split=None, min_samples_leaf=1,\n",
       "           min_samples_split=2, min_weight_fraction_leaf=0.0,\n",
       "           presort=False, random_state=93, splitter='best')"
      ]
     },
     "execution_count": 648,
     "metadata": {},
     "output_type": "execute_result"
    }
   ],
   "source": [
    "gs.best_estimator_"
   ]
  },
  {
   "cell_type": "markdown",
   "metadata": {},
   "source": [
    "Make predictions for the test set."
   ]
  },
  {
   "cell_type": "code",
   "execution_count": 649,
   "metadata": {},
   "outputs": [],
   "source": [
    "predictions_1 = gs.predict(X_test)"
   ]
  },
  {
   "cell_type": "markdown",
   "metadata": {},
   "source": [
    "Now let's compare some of our predicted values with the actual values and see how accurate "
   ]
  },
  {
   "cell_type": "code",
   "execution_count": 650,
   "metadata": {},
   "outputs": [
    {
     "data": {
      "text/html": [
       "<div>\n",
       "<style scoped>\n",
       "    .dataframe tbody tr th:only-of-type {\n",
       "        vertical-align: middle;\n",
       "    }\n",
       "\n",
       "    .dataframe tbody tr th {\n",
       "        vertical-align: top;\n",
       "    }\n",
       "\n",
       "    .dataframe thead th {\n",
       "        text-align: right;\n",
       "    }\n",
       "</style>\n",
       "<table border=\"1\" class=\"dataframe\">\n",
       "  <thead>\n",
       "    <tr style=\"text-align: right;\">\n",
       "      <th></th>\n",
       "      <th>Actual</th>\n",
       "      <th>Predicted</th>\n",
       "    </tr>\n",
       "  </thead>\n",
       "  <tbody>\n",
       "    <tr>\n",
       "      <th>43</th>\n",
       "      <td>591</td>\n",
       "      <td>642.250000</td>\n",
       "    </tr>\n",
       "    <tr>\n",
       "      <th>11</th>\n",
       "      <td>471</td>\n",
       "      <td>464.000000</td>\n",
       "    </tr>\n",
       "    <tr>\n",
       "      <th>5</th>\n",
       "      <td>457</td>\n",
       "      <td>504.000000</td>\n",
       "    </tr>\n",
       "    <tr>\n",
       "      <th>24</th>\n",
       "      <td>460</td>\n",
       "      <td>504.000000</td>\n",
       "    </tr>\n",
       "    <tr>\n",
       "      <th>7</th>\n",
       "      <td>467</td>\n",
       "      <td>504.000000</td>\n",
       "    </tr>\n",
       "    <tr>\n",
       "      <th>35</th>\n",
       "      <td>644</td>\n",
       "      <td>549.750000</td>\n",
       "    </tr>\n",
       "    <tr>\n",
       "      <th>40</th>\n",
       "      <td>587</td>\n",
       "      <td>529.666667</td>\n",
       "    </tr>\n",
       "    <tr>\n",
       "      <th>36</th>\n",
       "      <td>640</td>\n",
       "      <td>623.000000</td>\n",
       "    </tr>\n",
       "    <tr>\n",
       "      <th>44</th>\n",
       "      <td>782</td>\n",
       "      <td>865.000000</td>\n",
       "    </tr>\n",
       "    <tr>\n",
       "      <th>8</th>\n",
       "      <td>464</td>\n",
       "      <td>464.000000</td>\n",
       "    </tr>\n",
       "  </tbody>\n",
       "</table>\n",
       "</div>"
      ],
      "text/plain": [
       "    Actual   Predicted\n",
       "43     591  642.250000\n",
       "11     471  464.000000\n",
       "5      457  504.000000\n",
       "24     460  504.000000\n",
       "7      467  504.000000\n",
       "35     644  549.750000\n",
       "40     587  529.666667\n",
       "36     640  623.000000\n",
       "44     782  865.000000\n",
       "8      464  464.000000"
      ]
     },
     "execution_count": 650,
     "metadata": {},
     "output_type": "execute_result"
    }
   ],
   "source": [
    "df_1=pd.DataFrame({'Actual':y_test, 'Predicted':predictions_1})  \n",
    "df_1 "
   ]
  },
  {
   "cell_type": "markdown",
   "metadata": {},
   "source": [
    "Calculate accuracy of prediction"
   ]
  },
  {
   "cell_type": "code",
   "execution_count": 651,
   "metadata": {},
   "outputs": [
    {
     "name": "stdout",
     "output_type": "stream",
     "text": [
      "Mean Absolute Error: 43.78333333333334\n",
      "Mean Squared Error: 2753.7736111111117\n",
      "Root Mean Squared Error: 52.47641004404848\n"
     ]
    }
   ],
   "source": [
    "from sklearn.metrics import mean_absolute_error, r2_score\n",
    "#mean_absolute_error(y_test, predictions_1)\n",
    "print('Mean Absolute Error:', metrics.mean_absolute_error(y_test, predictions_1))  \n",
    "print('Mean Squared Error:', metrics.mean_squared_error(y_test, predictions_1))  \n",
    "print('Root Mean Squared Error:', np.sqrt(metrics.mean_squared_error(y_test, predictions_1)))\n"
   ]
  },
  {
   "cell_type": "code",
   "execution_count": 652,
   "metadata": {},
   "outputs": [
    {
     "data": {
      "text/plain": [
       "0.67316805690946"
      ]
     },
     "execution_count": 652,
     "metadata": {},
     "output_type": "execute_result"
    }
   ],
   "source": [
    "r2_score(y_test, predictions)"
   ]
  },
  {
   "cell_type": "markdown",
   "metadata": {},
   "source": [
    "First,we import graphviz from sklearn for tree diagram, we export the tree output to a dot format object."
   ]
  },
  {
   "cell_type": "code",
   "execution_count": 653,
   "metadata": {},
   "outputs": [],
   "source": [
    "from sklearn.tree import export_graphviz\n",
    "dot_data_1 = export_graphviz(gs.best_estimator_, filled=True, rounded=True, feature_names=['Petrol_tax','Average_income','Paved_Highways','Population_Driver_licence(%)'], out_file=None)"
   ]
  },
  {
   "cell_type": "markdown",
   "metadata": {},
   "source": [
    "Next, we use graphviz to plot the dot data as a decision tree."
   ]
  },
  {
   "cell_type": "code",
   "execution_count": 654,
   "metadata": {},
   "outputs": [],
   "source": [
    "import graphviz"
   ]
  },
  {
   "cell_type": "code",
   "execution_count": 655,
   "metadata": {},
   "outputs": [
    {
     "data": {
      "image/svg+xml": [
       "<?xml version=\"1.0\" encoding=\"UTF-8\" standalone=\"no\"?>\n",
       "<!DOCTYPE svg PUBLIC \"-//W3C//DTD SVG 1.1//EN\"\n",
       " \"http://www.w3.org/Graphics/SVG/1.1/DTD/svg11.dtd\">\n",
       "<!-- Generated by graphviz version 2.40.1 (20161225.0304)\n",
       " -->\n",
       "<!-- Title: Tree Pages: 1 -->\n",
       "<svg width=\"1670pt\" height=\"581pt\"\n",
       " viewBox=\"0.00 0.00 1669.50 581.00\" xmlns=\"http://www.w3.org/2000/svg\" xmlns:xlink=\"http://www.w3.org/1999/xlink\">\n",
       "<g id=\"graph0\" class=\"graph\" transform=\"scale(1 1) rotate(0) translate(4 577)\">\n",
       "<title>Tree</title>\n",
       "<polygon fill=\"#ffffff\" stroke=\"transparent\" points=\"-4,4 -4,-577 1665.5,-577 1665.5,4 -4,4\"/>\n",
       "<!-- 0 -->\n",
       "<g id=\"node1\" class=\"node\">\n",
       "<title>0</title>\n",
       "<path fill=\"#e58139\" fill-opacity=\"0.380392\" stroke=\"#000000\" d=\"M1449,-573C1449,-573 1220,-573 1220,-573 1214,-573 1208,-567 1208,-561 1208,-561 1208,-517 1208,-517 1208,-511 1214,-505 1220,-505 1220,-505 1449,-505 1449,-505 1455,-505 1461,-511 1461,-517 1461,-517 1461,-561 1461,-561 1461,-567 1455,-573 1449,-573\"/>\n",
       "<text text-anchor=\"middle\" x=\"1334.5\" y=\"-557.8\" font-family=\"Helvetica,sans-Serif\" font-size=\"14.00\" fill=\"#000000\">Population_Driver_licence(%) &lt;= 0.667</text>\n",
       "<text text-anchor=\"middle\" x=\"1334.5\" y=\"-542.8\" font-family=\"Helvetica,sans-Serif\" font-size=\"14.00\" fill=\"#000000\">mse = 12431.186</text>\n",
       "<text text-anchor=\"middle\" x=\"1334.5\" y=\"-527.8\" font-family=\"Helvetica,sans-Serif\" font-size=\"14.00\" fill=\"#000000\">samples = 38</text>\n",
       "<text text-anchor=\"middle\" x=\"1334.5\" y=\"-512.8\" font-family=\"Helvetica,sans-Serif\" font-size=\"14.00\" fill=\"#000000\">value = 582.158</text>\n",
       "</g>\n",
       "<!-- 1 -->\n",
       "<g id=\"node2\" class=\"node\">\n",
       "<title>1</title>\n",
       "<path fill=\"#e58139\" fill-opacity=\"0.349020\" stroke=\"#000000\" d=\"M1182.5,-469C1182.5,-469 1022.5,-469 1022.5,-469 1016.5,-469 1010.5,-463 1010.5,-457 1010.5,-457 1010.5,-413 1010.5,-413 1010.5,-407 1016.5,-401 1022.5,-401 1022.5,-401 1182.5,-401 1182.5,-401 1188.5,-401 1194.5,-407 1194.5,-413 1194.5,-413 1194.5,-457 1194.5,-457 1194.5,-463 1188.5,-469 1182.5,-469\"/>\n",
       "<text text-anchor=\"middle\" x=\"1102.5\" y=\"-453.8\" font-family=\"Helvetica,sans-Serif\" font-size=\"14.00\" fill=\"#000000\">Average_income &lt;= 4395.0</text>\n",
       "<text text-anchor=\"middle\" x=\"1102.5\" y=\"-438.8\" font-family=\"Helvetica,sans-Serif\" font-size=\"14.00\" fill=\"#000000\">mse = 6430.983</text>\n",
       "<text text-anchor=\"middle\" x=\"1102.5\" y=\"-423.8\" font-family=\"Helvetica,sans-Serif\" font-size=\"14.00\" fill=\"#000000\">samples = 35</text>\n",
       "<text text-anchor=\"middle\" x=\"1102.5\" y=\"-408.8\" font-family=\"Helvetica,sans-Serif\" font-size=\"14.00\" fill=\"#000000\">value = 561.4</text>\n",
       "</g>\n",
       "<!-- 0&#45;&gt;1 -->\n",
       "<g id=\"edge1\" class=\"edge\">\n",
       "<title>0&#45;&gt;1</title>\n",
       "<path fill=\"none\" stroke=\"#000000\" d=\"M1258.5345,-504.9465C1235.9017,-494.8008 1210.9513,-483.6161 1187.7663,-473.2228\"/>\n",
       "<polygon fill=\"#000000\" stroke=\"#000000\" points=\"1189.193,-470.0268 1178.6361,-469.13 1186.3295,-476.4144 1189.193,-470.0268\"/>\n",
       "<text text-anchor=\"middle\" x=\"1187.536\" y=\"-488.7922\" font-family=\"Helvetica,sans-Serif\" font-size=\"14.00\" fill=\"#000000\">True</text>\n",
       "</g>\n",
       "<!-- 26 -->\n",
       "<g id=\"node27\" class=\"node\">\n",
       "<title>26</title>\n",
       "<path fill=\"#e58139\" fill-opacity=\"0.768627\" stroke=\"#000000\" d=\"M1505.5,-469C1505.5,-469 1401.5,-469 1401.5,-469 1395.5,-469 1389.5,-463 1389.5,-457 1389.5,-457 1389.5,-413 1389.5,-413 1389.5,-407 1395.5,-401 1401.5,-401 1401.5,-401 1505.5,-401 1505.5,-401 1511.5,-401 1517.5,-407 1517.5,-413 1517.5,-413 1517.5,-457 1517.5,-457 1517.5,-463 1511.5,-469 1505.5,-469\"/>\n",
       "<text text-anchor=\"middle\" x=\"1453.5\" y=\"-453.8\" font-family=\"Helvetica,sans-Serif\" font-size=\"14.00\" fill=\"#000000\">Petrol_tax &lt;= 7.75</text>\n",
       "<text text-anchor=\"middle\" x=\"1453.5\" y=\"-438.8\" font-family=\"Helvetica,sans-Serif\" font-size=\"14.00\" fill=\"#000000\">mse = 18757.556</text>\n",
       "<text text-anchor=\"middle\" x=\"1453.5\" y=\"-423.8\" font-family=\"Helvetica,sans-Serif\" font-size=\"14.00\" fill=\"#000000\">samples = 3</text>\n",
       "<text text-anchor=\"middle\" x=\"1453.5\" y=\"-408.8\" font-family=\"Helvetica,sans-Serif\" font-size=\"14.00\" fill=\"#000000\">value = 824.333</text>\n",
       "</g>\n",
       "<!-- 0&#45;&gt;26 -->\n",
       "<g id=\"edge26\" class=\"edge\">\n",
       "<title>0&#45;&gt;26</title>\n",
       "<path fill=\"none\" stroke=\"#000000\" d=\"M1373.4651,-504.9465C1384.1495,-495.6088 1395.8409,-485.3911 1406.9066,-475.7203\"/>\n",
       "<polygon fill=\"#000000\" stroke=\"#000000\" points=\"1409.2209,-478.346 1414.4474,-469.13 1404.6145,-473.0752 1409.2209,-478.346\"/>\n",
       "<text text-anchor=\"middle\" x=\"1412.7696\" y=\"-490.3736\" font-family=\"Helvetica,sans-Serif\" font-size=\"14.00\" fill=\"#000000\">False</text>\n",
       "</g>\n",
       "<!-- 2 -->\n",
       "<g id=\"node3\" class=\"node\">\n",
       "<title>2</title>\n",
       "<path fill=\"#e58139\" fill-opacity=\"0.396078\" stroke=\"#000000\" d=\"M720.5,-365C720.5,-365 616.5,-365 616.5,-365 610.5,-365 604.5,-359 604.5,-353 604.5,-353 604.5,-309 604.5,-309 604.5,-303 610.5,-297 616.5,-297 616.5,-297 720.5,-297 720.5,-297 726.5,-297 732.5,-303 732.5,-309 732.5,-309 732.5,-353 732.5,-353 732.5,-359 726.5,-365 720.5,-365\"/>\n",
       "<text text-anchor=\"middle\" x=\"668.5\" y=\"-349.8\" font-family=\"Helvetica,sans-Serif\" font-size=\"14.00\" fill=\"#000000\">Petrol_tax &lt;= 7.75</text>\n",
       "<text text-anchor=\"middle\" x=\"668.5\" y=\"-334.8\" font-family=\"Helvetica,sans-Serif\" font-size=\"14.00\" fill=\"#000000\">mse = 3380.054</text>\n",
       "<text text-anchor=\"middle\" x=\"668.5\" y=\"-319.8\" font-family=\"Helvetica,sans-Serif\" font-size=\"14.00\" fill=\"#000000\">samples = 25</text>\n",
       "<text text-anchor=\"middle\" x=\"668.5\" y=\"-304.8\" font-family=\"Helvetica,sans-Serif\" font-size=\"14.00\" fill=\"#000000\">value = 590.84</text>\n",
       "</g>\n",
       "<!-- 1&#45;&gt;2 -->\n",
       "<g id=\"edge2\" class=\"edge\">\n",
       "<title>1&#45;&gt;2</title>\n",
       "<path fill=\"none\" stroke=\"#000000\" d=\"M1010.4598,-412.9443C930.7301,-393.8386 816.8599,-366.5517 742.8098,-348.807\"/>\n",
       "<polygon fill=\"#000000\" stroke=\"#000000\" points=\"743.1734,-345.2951 732.633,-346.3683 741.5421,-352.1023 743.1734,-345.2951\"/>\n",
       "</g>\n",
       "<!-- 15 -->\n",
       "<g id=\"node16\" class=\"node\">\n",
       "<title>15</title>\n",
       "<path fill=\"#e58139\" fill-opacity=\"0.231373\" stroke=\"#000000\" d=\"M1217,-365C1217,-365 988,-365 988,-365 982,-365 976,-359 976,-353 976,-353 976,-309 976,-309 976,-303 982,-297 988,-297 988,-297 1217,-297 1217,-297 1223,-297 1229,-303 1229,-309 1229,-309 1229,-353 1229,-353 1229,-359 1223,-365 1217,-365\"/>\n",
       "<text text-anchor=\"middle\" x=\"1102.5\" y=\"-349.8\" font-family=\"Helvetica,sans-Serif\" font-size=\"14.00\" fill=\"#000000\">Population_Driver_licence(%) &lt;= 0.548</text>\n",
       "<text text-anchor=\"middle\" x=\"1102.5\" y=\"-334.8\" font-family=\"Helvetica,sans-Serif\" font-size=\"14.00\" fill=\"#000000\">mse = 6474.56</text>\n",
       "<text text-anchor=\"middle\" x=\"1102.5\" y=\"-319.8\" font-family=\"Helvetica,sans-Serif\" font-size=\"14.00\" fill=\"#000000\">samples = 10</text>\n",
       "<text text-anchor=\"middle\" x=\"1102.5\" y=\"-304.8\" font-family=\"Helvetica,sans-Serif\" font-size=\"14.00\" fill=\"#000000\">value = 487.8</text>\n",
       "</g>\n",
       "<!-- 1&#45;&gt;15 -->\n",
       "<g id=\"edge15\" class=\"edge\">\n",
       "<title>1&#45;&gt;15</title>\n",
       "<path fill=\"none\" stroke=\"#000000\" d=\"M1102.5,-400.9465C1102.5,-392.776 1102.5,-383.9318 1102.5,-375.3697\"/>\n",
       "<polygon fill=\"#000000\" stroke=\"#000000\" points=\"1106.0001,-375.13 1102.5,-365.13 1099.0001,-375.13 1106.0001,-375.13\"/>\n",
       "</g>\n",
       "<!-- 3 -->\n",
       "<g id=\"node4\" class=\"node\">\n",
       "<title>3</title>\n",
       "<path fill=\"#e58139\" fill-opacity=\"0.443137\" stroke=\"#000000\" d=\"M462.5,-261C462.5,-261 300.5,-261 300.5,-261 294.5,-261 288.5,-255 288.5,-249 288.5,-249 288.5,-205 288.5,-205 288.5,-199 294.5,-193 300.5,-193 300.5,-193 462.5,-193 462.5,-193 468.5,-193 474.5,-199 474.5,-205 474.5,-205 474.5,-249 474.5,-249 474.5,-255 468.5,-261 462.5,-261\"/>\n",
       "<text text-anchor=\"middle\" x=\"381.5\" y=\"-245.8\" font-family=\"Helvetica,sans-Serif\" font-size=\"14.00\" fill=\"#000000\">Paved_Highways &lt;= 6482.5</text>\n",
       "<text text-anchor=\"middle\" x=\"381.5\" y=\"-230.8\" font-family=\"Helvetica,sans-Serif\" font-size=\"14.00\" fill=\"#000000\">mse = 3483.929</text>\n",
       "<text text-anchor=\"middle\" x=\"381.5\" y=\"-215.8\" font-family=\"Helvetica,sans-Serif\" font-size=\"14.00\" fill=\"#000000\">samples = 13</text>\n",
       "<text text-anchor=\"middle\" x=\"381.5\" y=\"-200.8\" font-family=\"Helvetica,sans-Serif\" font-size=\"14.00\" fill=\"#000000\">value = 619.615</text>\n",
       "</g>\n",
       "<!-- 2&#45;&gt;3 -->\n",
       "<g id=\"edge3\" class=\"edge\">\n",
       "<title>2&#45;&gt;3</title>\n",
       "<path fill=\"none\" stroke=\"#000000\" d=\"M604.4488,-307.7898C569.1186,-294.9872 524.4062,-278.7848 484.313,-264.2563\"/>\n",
       "<polygon fill=\"#000000\" stroke=\"#000000\" points=\"485.3609,-260.9133 474.7667,-260.797 482.976,-267.4946 485.3609,-260.9133\"/>\n",
       "</g>\n",
       "<!-- 10 -->\n",
       "<g id=\"node11\" class=\"node\">\n",
       "<title>10</title>\n",
       "<path fill=\"#e58139\" fill-opacity=\"0.345098\" stroke=\"#000000\" d=\"M783,-261C783,-261 554,-261 554,-261 548,-261 542,-255 542,-249 542,-249 542,-205 542,-205 542,-199 548,-193 554,-193 554,-193 783,-193 783,-193 789,-193 795,-199 795,-205 795,-205 795,-249 795,-249 795,-255 789,-261 783,-261\"/>\n",
       "<text text-anchor=\"middle\" x=\"668.5\" y=\"-245.8\" font-family=\"Helvetica,sans-Serif\" font-size=\"14.00\" fill=\"#000000\">Population_Driver_licence(%) &lt;= 0.621</text>\n",
       "<text text-anchor=\"middle\" x=\"668.5\" y=\"-230.8\" font-family=\"Helvetica,sans-Serif\" font-size=\"14.00\" fill=\"#000000\">mse = 1398.722</text>\n",
       "<text text-anchor=\"middle\" x=\"668.5\" y=\"-215.8\" font-family=\"Helvetica,sans-Serif\" font-size=\"14.00\" fill=\"#000000\">samples = 12</text>\n",
       "<text text-anchor=\"middle\" x=\"668.5\" y=\"-200.8\" font-family=\"Helvetica,sans-Serif\" font-size=\"14.00\" fill=\"#000000\">value = 559.667</text>\n",
       "</g>\n",
       "<!-- 2&#45;&gt;10 -->\n",
       "<g id=\"edge10\" class=\"edge\">\n",
       "<title>2&#45;&gt;10</title>\n",
       "<path fill=\"none\" stroke=\"#000000\" d=\"M668.5,-296.9465C668.5,-288.776 668.5,-279.9318 668.5,-271.3697\"/>\n",
       "<polygon fill=\"#000000\" stroke=\"#000000\" points=\"672.0001,-271.13 668.5,-261.13 665.0001,-271.13 672.0001,-271.13\"/>\n",
       "</g>\n",
       "<!-- 4 -->\n",
       "<g id=\"node5\" class=\"node\">\n",
       "<title>4</title>\n",
       "<path fill=\"#e58139\" fill-opacity=\"0.513725\" stroke=\"#000000\" d=\"M258.5,-157C258.5,-157 96.5,-157 96.5,-157 90.5,-157 84.5,-151 84.5,-145 84.5,-145 84.5,-101 84.5,-101 84.5,-95 90.5,-89 96.5,-89 96.5,-89 258.5,-89 258.5,-89 264.5,-89 270.5,-95 270.5,-101 270.5,-101 270.5,-145 270.5,-145 270.5,-151 264.5,-157 258.5,-157\"/>\n",
       "<text text-anchor=\"middle\" x=\"177.5\" y=\"-141.8\" font-family=\"Helvetica,sans-Serif\" font-size=\"14.00\" fill=\"#000000\">Paved_Highways &lt;= 4423.0</text>\n",
       "<text text-anchor=\"middle\" x=\"177.5\" y=\"-126.8\" font-family=\"Helvetica,sans-Serif\" font-size=\"14.00\" fill=\"#000000\">mse = 1759.917</text>\n",
       "<text text-anchor=\"middle\" x=\"177.5\" y=\"-111.8\" font-family=\"Helvetica,sans-Serif\" font-size=\"14.00\" fill=\"#000000\">samples = 6</text>\n",
       "<text text-anchor=\"middle\" x=\"177.5\" y=\"-96.8\" font-family=\"Helvetica,sans-Serif\" font-size=\"14.00\" fill=\"#000000\">value = 664.5</text>\n",
       "</g>\n",
       "<!-- 3&#45;&gt;4 -->\n",
       "<g id=\"edge4\" class=\"edge\">\n",
       "<title>3&#45;&gt;4</title>\n",
       "<path fill=\"none\" stroke=\"#000000\" d=\"M314.7028,-192.9465C295.1537,-182.9803 273.6383,-172.0117 253.5594,-161.7754\"/>\n",
       "<polygon fill=\"#000000\" stroke=\"#000000\" points=\"254.946,-158.5537 244.4473,-157.13 251.7667,-164.7901 254.946,-158.5537\"/>\n",
       "</g>\n",
       "<!-- 7 -->\n",
       "<g id=\"node8\" class=\"node\">\n",
       "<title>7</title>\n",
       "<path fill=\"#e58139\" fill-opacity=\"0.380392\" stroke=\"#000000\" d=\"M462.5,-157C462.5,-157 300.5,-157 300.5,-157 294.5,-157 288.5,-151 288.5,-145 288.5,-145 288.5,-101 288.5,-101 288.5,-95 294.5,-89 300.5,-89 300.5,-89 462.5,-89 462.5,-89 468.5,-89 474.5,-95 474.5,-101 474.5,-101 474.5,-145 474.5,-145 474.5,-151 468.5,-157 462.5,-157\"/>\n",
       "<text text-anchor=\"middle\" x=\"381.5\" y=\"-141.8\" font-family=\"Helvetica,sans-Serif\" font-size=\"14.00\" fill=\"#000000\">Paved_Highways &lt;= 8333.5</text>\n",
       "<text text-anchor=\"middle\" x=\"381.5\" y=\"-126.8\" font-family=\"Helvetica,sans-Serif\" font-size=\"14.00\" fill=\"#000000\">mse = 1754.694</text>\n",
       "<text text-anchor=\"middle\" x=\"381.5\" y=\"-111.8\" font-family=\"Helvetica,sans-Serif\" font-size=\"14.00\" fill=\"#000000\">samples = 7</text>\n",
       "<text text-anchor=\"middle\" x=\"381.5\" y=\"-96.8\" font-family=\"Helvetica,sans-Serif\" font-size=\"14.00\" fill=\"#000000\">value = 581.143</text>\n",
       "</g>\n",
       "<!-- 3&#45;&gt;7 -->\n",
       "<g id=\"edge7\" class=\"edge\">\n",
       "<title>3&#45;&gt;7</title>\n",
       "<path fill=\"none\" stroke=\"#000000\" d=\"M381.5,-192.9465C381.5,-184.776 381.5,-175.9318 381.5,-167.3697\"/>\n",
       "<polygon fill=\"#000000\" stroke=\"#000000\" points=\"385.0001,-167.13 381.5,-157.13 378.0001,-167.13 385.0001,-167.13\"/>\n",
       "</g>\n",
       "<!-- 5 -->\n",
       "<g id=\"node6\" class=\"node\">\n",
       "<title>5</title>\n",
       "<path fill=\"#e58139\" fill-opacity=\"0.478431\" stroke=\"#000000\" d=\"M103,-53C103,-53 12,-53 12,-53 6,-53 0,-47 0,-41 0,-41 0,-12 0,-12 0,-6 6,0 12,0 12,0 103,0 103,0 109,0 115,-6 115,-12 115,-12 115,-41 115,-41 115,-47 109,-53 103,-53\"/>\n",
       "<text text-anchor=\"middle\" x=\"57.5\" y=\"-37.8\" font-family=\"Helvetica,sans-Serif\" font-size=\"14.00\" fill=\"#000000\">mse = 1142.188</text>\n",
       "<text text-anchor=\"middle\" x=\"57.5\" y=\"-22.8\" font-family=\"Helvetica,sans-Serif\" font-size=\"14.00\" fill=\"#000000\">samples = 4</text>\n",
       "<text text-anchor=\"middle\" x=\"57.5\" y=\"-7.8\" font-family=\"Helvetica,sans-Serif\" font-size=\"14.00\" fill=\"#000000\">value = 642.25</text>\n",
       "</g>\n",
       "<!-- 4&#45;&gt;5 -->\n",
       "<g id=\"edge5\" class=\"edge\">\n",
       "<title>4&#45;&gt;5</title>\n",
       "<path fill=\"none\" stroke=\"#000000\" d=\"M135.1925,-88.9777C123.3501,-79.4545 110.4979,-69.1191 98.7195,-59.6473\"/>\n",
       "<polygon fill=\"#000000\" stroke=\"#000000\" points=\"100.7486,-56.7877 90.7624,-53.2485 96.3618,-62.2427 100.7486,-56.7877\"/>\n",
       "</g>\n",
       "<!-- 6 -->\n",
       "<g id=\"node7\" class=\"node\">\n",
       "<title>6</title>\n",
       "<path fill=\"#e58139\" fill-opacity=\"0.584314\" stroke=\"#000000\" d=\"M219.5,-53C219.5,-53 145.5,-53 145.5,-53 139.5,-53 133.5,-47 133.5,-41 133.5,-41 133.5,-12 133.5,-12 133.5,-6 139.5,0 145.5,0 145.5,0 219.5,0 219.5,0 225.5,0 231.5,-6 231.5,-12 231.5,-12 231.5,-41 231.5,-41 231.5,-47 225.5,-53 219.5,-53\"/>\n",
       "<text text-anchor=\"middle\" x=\"182.5\" y=\"-37.8\" font-family=\"Helvetica,sans-Serif\" font-size=\"14.00\" fill=\"#000000\">mse = 25.0</text>\n",
       "<text text-anchor=\"middle\" x=\"182.5\" y=\"-22.8\" font-family=\"Helvetica,sans-Serif\" font-size=\"14.00\" fill=\"#000000\">samples = 2</text>\n",
       "<text text-anchor=\"middle\" x=\"182.5\" y=\"-7.8\" font-family=\"Helvetica,sans-Serif\" font-size=\"14.00\" fill=\"#000000\">value = 709.0</text>\n",
       "</g>\n",
       "<!-- 4&#45;&gt;6 -->\n",
       "<g id=\"edge6\" class=\"edge\">\n",
       "<title>4&#45;&gt;6</title>\n",
       "<path fill=\"none\" stroke=\"#000000\" d=\"M179.2628,-88.9777C179.6946,-80.6449 180.1585,-71.6903 180.5966,-63.2364\"/>\n",
       "<polygon fill=\"#000000\" stroke=\"#000000\" points=\"184.0918,-63.4162 181.1141,-53.2485 177.1012,-63.0539 184.0918,-63.4162\"/>\n",
       "</g>\n",
       "<!-- 8 -->\n",
       "<g id=\"node9\" class=\"node\">\n",
       "<title>8</title>\n",
       "<path fill=\"#e58139\" fill-opacity=\"0.329412\" stroke=\"#000000\" d=\"M362,-53C362,-53 279,-53 279,-53 273,-53 267,-47 267,-41 267,-41 267,-12 267,-12 267,-6 273,0 279,0 279,0 362,0 362,0 368,0 374,-6 374,-12 374,-12 374,-41 374,-41 374,-47 368,-53 362,-53\"/>\n",
       "<text text-anchor=\"middle\" x=\"320.5\" y=\"-37.8\" font-family=\"Helvetica,sans-Serif\" font-size=\"14.00\" fill=\"#000000\">mse = 619.188</text>\n",
       "<text text-anchor=\"middle\" x=\"320.5\" y=\"-22.8\" font-family=\"Helvetica,sans-Serif\" font-size=\"14.00\" fill=\"#000000\">samples = 4</text>\n",
       "<text text-anchor=\"middle\" x=\"320.5\" y=\"-7.8\" font-family=\"Helvetica,sans-Serif\" font-size=\"14.00\" fill=\"#000000\">value = 549.75</text>\n",
       "</g>\n",
       "<!-- 7&#45;&gt;8 -->\n",
       "<g id=\"edge8\" class=\"edge\">\n",
       "<title>7&#45;&gt;8</title>\n",
       "<path fill=\"none\" stroke=\"#000000\" d=\"M359.9937,-88.9777C354.4369,-80.187 348.4427,-70.7044 342.8441,-61.8477\"/>\n",
       "<polygon fill=\"#000000\" stroke=\"#000000\" points=\"345.7101,-59.8312 337.4084,-53.2485 339.7931,-63.5714 345.7101,-59.8312\"/>\n",
       "</g>\n",
       "<!-- 9 -->\n",
       "<g id=\"node10\" class=\"node\">\n",
       "<title>9</title>\n",
       "<path fill=\"#e58139\" fill-opacity=\"0.447059\" stroke=\"#000000\" d=\"M487,-53C487,-53 404,-53 404,-53 398,-53 392,-47 392,-41 392,-41 392,-12 392,-12 392,-6 398,0 404,0 404,0 487,0 487,0 493,0 499,-6 499,-12 499,-12 499,-41 499,-41 499,-47 493,-53 487,-53\"/>\n",
       "<text text-anchor=\"middle\" x=\"445.5\" y=\"-37.8\" font-family=\"Helvetica,sans-Serif\" font-size=\"14.00\" fill=\"#000000\">mse = 202.667</text>\n",
       "<text text-anchor=\"middle\" x=\"445.5\" y=\"-22.8\" font-family=\"Helvetica,sans-Serif\" font-size=\"14.00\" fill=\"#000000\">samples = 3</text>\n",
       "<text text-anchor=\"middle\" x=\"445.5\" y=\"-7.8\" font-family=\"Helvetica,sans-Serif\" font-size=\"14.00\" fill=\"#000000\">value = 623.0</text>\n",
       "</g>\n",
       "<!-- 7&#45;&gt;9 -->\n",
       "<g id=\"edge9\" class=\"edge\">\n",
       "<title>7&#45;&gt;9</title>\n",
       "<path fill=\"none\" stroke=\"#000000\" d=\"M404.064,-88.9777C409.8941,-80.187 416.1831,-70.7044 422.057,-61.8477\"/>\n",
       "<polygon fill=\"#000000\" stroke=\"#000000\" points=\"425.1498,-63.5167 427.7601,-53.2485 419.3162,-59.6478 425.1498,-63.5167\"/>\n",
       "</g>\n",
       "<!-- 11 -->\n",
       "<g id=\"node12\" class=\"node\">\n",
       "<title>11</title>\n",
       "<path fill=\"#e58139\" fill-opacity=\"0.333333\" stroke=\"#000000\" d=\"M666.5,-157C666.5,-157 504.5,-157 504.5,-157 498.5,-157 492.5,-151 492.5,-145 492.5,-145 492.5,-101 492.5,-101 492.5,-95 498.5,-89 504.5,-89 504.5,-89 666.5,-89 666.5,-89 672.5,-89 678.5,-95 678.5,-101 678.5,-101 678.5,-145 678.5,-145 678.5,-151 672.5,-157 666.5,-157\"/>\n",
       "<text text-anchor=\"middle\" x=\"585.5\" y=\"-141.8\" font-family=\"Helvetica,sans-Serif\" font-size=\"14.00\" fill=\"#000000\">Paved_Highways &lt;= 4716.0</text>\n",
       "<text text-anchor=\"middle\" x=\"585.5\" y=\"-126.8\" font-family=\"Helvetica,sans-Serif\" font-size=\"14.00\" fill=\"#000000\">mse = 752.05</text>\n",
       "<text text-anchor=\"middle\" x=\"585.5\" y=\"-111.8\" font-family=\"Helvetica,sans-Serif\" font-size=\"14.00\" fill=\"#000000\">samples = 11</text>\n",
       "<text text-anchor=\"middle\" x=\"585.5\" y=\"-96.8\" font-family=\"Helvetica,sans-Serif\" font-size=\"14.00\" fill=\"#000000\">value = 551.636</text>\n",
       "</g>\n",
       "<!-- 10&#45;&gt;11 -->\n",
       "<g id=\"edge11\" class=\"edge\">\n",
       "<title>10&#45;&gt;11</title>\n",
       "<path fill=\"none\" stroke=\"#000000\" d=\"M641.3227,-192.9465C634.2288,-184.0578 626.4985,-174.3716 619.114,-165.1188\"/>\n",
       "<polygon fill=\"#000000\" stroke=\"#000000\" points=\"621.7118,-162.7628 612.7384,-157.13 616.2406,-167.1293 621.7118,-162.7628\"/>\n",
       "</g>\n",
       "<!-- 14 -->\n",
       "<g id=\"node15\" class=\"node\">\n",
       "<title>14</title>\n",
       "<path fill=\"#e58139\" fill-opacity=\"0.486275\" stroke=\"#000000\" d=\"M782.5,-149.5C782.5,-149.5 708.5,-149.5 708.5,-149.5 702.5,-149.5 696.5,-143.5 696.5,-137.5 696.5,-137.5 696.5,-108.5 696.5,-108.5 696.5,-102.5 702.5,-96.5 708.5,-96.5 708.5,-96.5 782.5,-96.5 782.5,-96.5 788.5,-96.5 794.5,-102.5 794.5,-108.5 794.5,-108.5 794.5,-137.5 794.5,-137.5 794.5,-143.5 788.5,-149.5 782.5,-149.5\"/>\n",
       "<text text-anchor=\"middle\" x=\"745.5\" y=\"-134.3\" font-family=\"Helvetica,sans-Serif\" font-size=\"14.00\" fill=\"#000000\">mse = 0.0</text>\n",
       "<text text-anchor=\"middle\" x=\"745.5\" y=\"-119.3\" font-family=\"Helvetica,sans-Serif\" font-size=\"14.00\" fill=\"#000000\">samples = 1</text>\n",
       "<text text-anchor=\"middle\" x=\"745.5\" y=\"-104.3\" font-family=\"Helvetica,sans-Serif\" font-size=\"14.00\" fill=\"#000000\">value = 648.0</text>\n",
       "</g>\n",
       "<!-- 10&#45;&gt;14 -->\n",
       "<g id=\"edge14\" class=\"edge\">\n",
       "<title>10&#45;&gt;14</title>\n",
       "<path fill=\"none\" stroke=\"#000000\" d=\"M693.7127,-192.9465C702.0311,-181.7113 711.2927,-169.2021 719.6574,-157.9043\"/>\n",
       "<polygon fill=\"#000000\" stroke=\"#000000\" points=\"722.7111,-159.6618 725.8486,-149.5422 717.0852,-155.4965 722.7111,-159.6618\"/>\n",
       "</g>\n",
       "<!-- 12 -->\n",
       "<g id=\"node13\" class=\"node\">\n",
       "<title>12</title>\n",
       "<path fill=\"#e58139\" fill-opacity=\"0.301961\" stroke=\"#000000\" d=\"M626,-53C626,-53 537,-53 537,-53 531,-53 525,-47 525,-41 525,-41 525,-12 525,-12 525,-6 531,0 537,0 537,0 626,0 626,0 632,0 638,-6 638,-12 638,-12 638,-41 638,-41 638,-47 632,-53 626,-53\"/>\n",
       "<text text-anchor=\"middle\" x=\"581.5\" y=\"-37.8\" font-family=\"Helvetica,sans-Serif\" font-size=\"14.00\" fill=\"#000000\">mse = 539.889</text>\n",
       "<text text-anchor=\"middle\" x=\"581.5\" y=\"-22.8\" font-family=\"Helvetica,sans-Serif\" font-size=\"14.00\" fill=\"#000000\">samples = 6</text>\n",
       "<text text-anchor=\"middle\" x=\"581.5\" y=\"-7.8\" font-family=\"Helvetica,sans-Serif\" font-size=\"14.00\" fill=\"#000000\">value = 532.333</text>\n",
       "</g>\n",
       "<!-- 11&#45;&gt;12 -->\n",
       "<g id=\"edge12\" class=\"edge\">\n",
       "<title>11&#45;&gt;12</title>\n",
       "<path fill=\"none\" stroke=\"#000000\" d=\"M584.0897,-88.9777C583.7481,-80.7364 583.3813,-71.887 583.0343,-63.5153\"/>\n",
       "<polygon fill=\"#000000\" stroke=\"#000000\" points=\"586.52,-63.0949 582.6087,-53.2485 579.526,-63.3849 586.52,-63.0949\"/>\n",
       "</g>\n",
       "<!-- 13 -->\n",
       "<g id=\"node14\" class=\"node\">\n",
       "<title>13</title>\n",
       "<path fill=\"#e58139\" fill-opacity=\"0.368627\" stroke=\"#000000\" d=\"M742.5,-53C742.5,-53 668.5,-53 668.5,-53 662.5,-53 656.5,-47 656.5,-41 656.5,-41 656.5,-12 656.5,-12 656.5,-6 662.5,0 668.5,0 668.5,0 742.5,0 742.5,0 748.5,0 754.5,-6 754.5,-12 754.5,-12 754.5,-41 754.5,-41 754.5,-47 748.5,-53 742.5,-53\"/>\n",
       "<text text-anchor=\"middle\" x=\"705.5\" y=\"-37.8\" font-family=\"Helvetica,sans-Serif\" font-size=\"14.00\" fill=\"#000000\">mse = 22.96</text>\n",
       "<text text-anchor=\"middle\" x=\"705.5\" y=\"-22.8\" font-family=\"Helvetica,sans-Serif\" font-size=\"14.00\" fill=\"#000000\">samples = 5</text>\n",
       "<text text-anchor=\"middle\" x=\"705.5\" y=\"-7.8\" font-family=\"Helvetica,sans-Serif\" font-size=\"14.00\" fill=\"#000000\">value = 574.8</text>\n",
       "</g>\n",
       "<!-- 11&#45;&gt;13 -->\n",
       "<g id=\"edge13\" class=\"edge\">\n",
       "<title>11&#45;&gt;13</title>\n",
       "<path fill=\"none\" stroke=\"#000000\" d=\"M627.8075,-88.9777C639.6499,-79.4545 652.5021,-69.1191 664.2805,-59.6473\"/>\n",
       "<polygon fill=\"#000000\" stroke=\"#000000\" points=\"666.6382,-62.2427 672.2376,-53.2485 662.2514,-56.7877 666.6382,-62.2427\"/>\n",
       "</g>\n",
       "<!-- 16 -->\n",
       "<g id=\"node17\" class=\"node\">\n",
       "<title>16</title>\n",
       "<path fill=\"#e58139\" fill-opacity=\"0.101961\" stroke=\"#000000\" d=\"M1103,-261C1103,-261 874,-261 874,-261 868,-261 862,-255 862,-249 862,-249 862,-205 862,-205 862,-199 868,-193 874,-193 874,-193 1103,-193 1103,-193 1109,-193 1115,-199 1115,-205 1115,-205 1115,-249 1115,-249 1115,-255 1109,-261 1103,-261\"/>\n",
       "<text text-anchor=\"middle\" x=\"988.5\" y=\"-245.8\" font-family=\"Helvetica,sans-Serif\" font-size=\"14.00\" fill=\"#000000\">Population_Driver_licence(%) &lt;= 0.481</text>\n",
       "<text text-anchor=\"middle\" x=\"988.5\" y=\"-230.8\" font-family=\"Helvetica,sans-Serif\" font-size=\"14.00\" fill=\"#000000\">mse = 1818.0</text>\n",
       "<text text-anchor=\"middle\" x=\"988.5\" y=\"-215.8\" font-family=\"Helvetica,sans-Serif\" font-size=\"14.00\" fill=\"#000000\">samples = 4</text>\n",
       "<text text-anchor=\"middle\" x=\"988.5\" y=\"-200.8\" font-family=\"Helvetica,sans-Serif\" font-size=\"14.00\" fill=\"#000000\">value = 408.0</text>\n",
       "</g>\n",
       "<!-- 15&#45;&gt;16 -->\n",
       "<g id=\"edge16\" class=\"edge\">\n",
       "<title>15&#45;&gt;16</title>\n",
       "<path fill=\"none\" stroke=\"#000000\" d=\"M1065.1721,-296.9465C1055.035,-287.6986 1043.9517,-277.5876 1033.4417,-267.9994\"/>\n",
       "<polygon fill=\"#000000\" stroke=\"#000000\" points=\"1035.6583,-265.284 1025.9117,-261.13 1030.9405,-270.4553 1035.6583,-265.284\"/>\n",
       "</g>\n",
       "<!-- 21 -->\n",
       "<g id=\"node22\" class=\"node\">\n",
       "<title>21</title>\n",
       "<path fill=\"#e58139\" fill-opacity=\"0.317647\" stroke=\"#000000\" d=\"M1374,-261C1374,-261 1145,-261 1145,-261 1139,-261 1133,-255 1133,-249 1133,-249 1133,-205 1133,-205 1133,-199 1139,-193 1145,-193 1145,-193 1374,-193 1374,-193 1380,-193 1386,-199 1386,-205 1386,-205 1386,-249 1386,-249 1386,-255 1380,-261 1374,-261\"/>\n",
       "<text text-anchor=\"middle\" x=\"1259.5\" y=\"-245.8\" font-family=\"Helvetica,sans-Serif\" font-size=\"14.00\" fill=\"#000000\">Population_Driver_licence(%) &lt;= 0.632</text>\n",
       "<text text-anchor=\"middle\" x=\"1259.5\" y=\"-230.8\" font-family=\"Helvetica,sans-Serif\" font-size=\"14.00\" fill=\"#000000\">mse = 2503.333</text>\n",
       "<text text-anchor=\"middle\" x=\"1259.5\" y=\"-215.8\" font-family=\"Helvetica,sans-Serif\" font-size=\"14.00\" fill=\"#000000\">samples = 6</text>\n",
       "<text text-anchor=\"middle\" x=\"1259.5\" y=\"-200.8\" font-family=\"Helvetica,sans-Serif\" font-size=\"14.00\" fill=\"#000000\">value = 541.0</text>\n",
       "</g>\n",
       "<!-- 15&#45;&gt;21 -->\n",
       "<g id=\"edge21\" class=\"edge\">\n",
       "<title>15&#45;&gt;21</title>\n",
       "<path fill=\"none\" stroke=\"#000000\" d=\"M1153.9077,-296.9465C1168.4106,-287.3395 1184.3198,-276.8009 1199.2893,-266.8848\"/>\n",
       "<polygon fill=\"#000000\" stroke=\"#000000\" points=\"1201.5729,-269.5704 1207.9768,-261.13 1197.7071,-263.7346 1201.5729,-269.5704\"/>\n",
       "</g>\n",
       "<!-- 17 -->\n",
       "<g id=\"node18\" class=\"node\">\n",
       "<title>17</title>\n",
       "<path fill=\"transparent\" stroke=\"#000000\" d=\"M898.5,-149.5C898.5,-149.5 824.5,-149.5 824.5,-149.5 818.5,-149.5 812.5,-143.5 812.5,-137.5 812.5,-137.5 812.5,-108.5 812.5,-108.5 812.5,-102.5 818.5,-96.5 824.5,-96.5 824.5,-96.5 898.5,-96.5 898.5,-96.5 904.5,-96.5 910.5,-102.5 910.5,-108.5 910.5,-108.5 910.5,-137.5 910.5,-137.5 910.5,-143.5 904.5,-149.5 898.5,-149.5\"/>\n",
       "<text text-anchor=\"middle\" x=\"861.5\" y=\"-134.3\" font-family=\"Helvetica,sans-Serif\" font-size=\"14.00\" fill=\"#000000\">mse = 0.0</text>\n",
       "<text text-anchor=\"middle\" x=\"861.5\" y=\"-119.3\" font-family=\"Helvetica,sans-Serif\" font-size=\"14.00\" fill=\"#000000\">samples = 1</text>\n",
       "<text text-anchor=\"middle\" x=\"861.5\" y=\"-104.3\" font-family=\"Helvetica,sans-Serif\" font-size=\"14.00\" fill=\"#000000\">value = 344.0</text>\n",
       "</g>\n",
       "<!-- 16&#45;&gt;17 -->\n",
       "<g id=\"edge17\" class=\"edge\">\n",
       "<title>16&#45;&gt;17</title>\n",
       "<path fill=\"none\" stroke=\"#000000\" d=\"M946.9155,-192.9465C932.3885,-181.0504 916.1173,-167.726 901.7049,-155.9237\"/>\n",
       "<polygon fill=\"#000000\" stroke=\"#000000\" points=\"903.8665,-153.17 893.9121,-149.5422 899.4314,-158.5858 903.8665,-153.17\"/>\n",
       "</g>\n",
       "<!-- 18 -->\n",
       "<g id=\"node19\" class=\"node\">\n",
       "<title>18</title>\n",
       "<path fill=\"#e58139\" fill-opacity=\"0.137255\" stroke=\"#000000\" d=\"M1102.5,-157C1102.5,-157 940.5,-157 940.5,-157 934.5,-157 928.5,-151 928.5,-145 928.5,-145 928.5,-101 928.5,-101 928.5,-95 934.5,-89 940.5,-89 940.5,-89 1102.5,-89 1102.5,-89 1108.5,-89 1114.5,-95 1114.5,-101 1114.5,-101 1114.5,-145 1114.5,-145 1114.5,-151 1108.5,-157 1102.5,-157\"/>\n",
       "<text text-anchor=\"middle\" x=\"1021.5\" y=\"-141.8\" font-family=\"Helvetica,sans-Serif\" font-size=\"14.00\" fill=\"#000000\">Paved_Highways &lt;= 2400.0</text>\n",
       "<text text-anchor=\"middle\" x=\"1021.5\" y=\"-126.8\" font-family=\"Helvetica,sans-Serif\" font-size=\"14.00\" fill=\"#000000\">mse = 603.556</text>\n",
       "<text text-anchor=\"middle\" x=\"1021.5\" y=\"-111.8\" font-family=\"Helvetica,sans-Serif\" font-size=\"14.00\" fill=\"#000000\">samples = 3</text>\n",
       "<text text-anchor=\"middle\" x=\"1021.5\" y=\"-96.8\" font-family=\"Helvetica,sans-Serif\" font-size=\"14.00\" fill=\"#000000\">value = 429.333</text>\n",
       "</g>\n",
       "<!-- 16&#45;&gt;18 -->\n",
       "<g id=\"edge18\" class=\"edge\">\n",
       "<title>16&#45;&gt;18</title>\n",
       "<path fill=\"none\" stroke=\"#000000\" d=\"M999.3054,-192.9465C1001.955,-184.5965 1004.8278,-175.5427 1007.6001,-166.8056\"/>\n",
       "<polygon fill=\"#000000\" stroke=\"#000000\" points=\"1010.9818,-167.7203 1010.6703,-157.13 1004.3097,-165.6031 1010.9818,-167.7203\"/>\n",
       "</g>\n",
       "<!-- 19 -->\n",
       "<g id=\"node20\" class=\"node\">\n",
       "<title>19</title>\n",
       "<path fill=\"#e58139\" fill-opacity=\"0.109804\" stroke=\"#000000\" d=\"M1000.5,-53C1000.5,-53 926.5,-53 926.5,-53 920.5,-53 914.5,-47 914.5,-41 914.5,-41 914.5,-12 914.5,-12 914.5,-6 920.5,0 926.5,0 926.5,0 1000.5,0 1000.5,0 1006.5,0 1012.5,-6 1012.5,-12 1012.5,-12 1012.5,-41 1012.5,-41 1012.5,-47 1006.5,-53 1000.5,-53\"/>\n",
       "<text text-anchor=\"middle\" x=\"963.5\" y=\"-37.8\" font-family=\"Helvetica,sans-Serif\" font-size=\"14.00\" fill=\"#000000\">mse = 4.0</text>\n",
       "<text text-anchor=\"middle\" x=\"963.5\" y=\"-22.8\" font-family=\"Helvetica,sans-Serif\" font-size=\"14.00\" fill=\"#000000\">samples = 2</text>\n",
       "<text text-anchor=\"middle\" x=\"963.5\" y=\"-7.8\" font-family=\"Helvetica,sans-Serif\" font-size=\"14.00\" fill=\"#000000\">value = 412.0</text>\n",
       "</g>\n",
       "<!-- 18&#45;&gt;19 -->\n",
       "<g id=\"edge19\" class=\"edge\">\n",
       "<title>18&#45;&gt;19</title>\n",
       "<path fill=\"none\" stroke=\"#000000\" d=\"M1001.0514,-88.9777C995.7678,-80.187 990.0684,-70.7044 984.7452,-61.8477\"/>\n",
       "<polygon fill=\"#000000\" stroke=\"#000000\" points=\"987.7282,-60.0165 979.5768,-53.2485 981.7285,-63.6225 987.7282,-60.0165\"/>\n",
       "</g>\n",
       "<!-- 20 -->\n",
       "<g id=\"node21\" class=\"node\">\n",
       "<title>20</title>\n",
       "<path fill=\"#e58139\" fill-opacity=\"0.192157\" stroke=\"#000000\" d=\"M1116.5,-53C1116.5,-53 1042.5,-53 1042.5,-53 1036.5,-53 1030.5,-47 1030.5,-41 1030.5,-41 1030.5,-12 1030.5,-12 1030.5,-6 1036.5,0 1042.5,0 1042.5,0 1116.5,0 1116.5,0 1122.5,0 1128.5,-6 1128.5,-12 1128.5,-12 1128.5,-41 1128.5,-41 1128.5,-47 1122.5,-53 1116.5,-53\"/>\n",
       "<text text-anchor=\"middle\" x=\"1079.5\" y=\"-37.8\" font-family=\"Helvetica,sans-Serif\" font-size=\"14.00\" fill=\"#000000\">mse = 0.0</text>\n",
       "<text text-anchor=\"middle\" x=\"1079.5\" y=\"-22.8\" font-family=\"Helvetica,sans-Serif\" font-size=\"14.00\" fill=\"#000000\">samples = 1</text>\n",
       "<text text-anchor=\"middle\" x=\"1079.5\" y=\"-7.8\" font-family=\"Helvetica,sans-Serif\" font-size=\"14.00\" fill=\"#000000\">value = 464.0</text>\n",
       "</g>\n",
       "<!-- 18&#45;&gt;20 -->\n",
       "<g id=\"edge20\" class=\"edge\">\n",
       "<title>18&#45;&gt;20</title>\n",
       "<path fill=\"none\" stroke=\"#000000\" d=\"M1041.9486,-88.9777C1047.2322,-80.187 1052.9316,-70.7044 1058.2548,-61.8477\"/>\n",
       "<polygon fill=\"#000000\" stroke=\"#000000\" points=\"1061.2715,-63.6225 1063.4232,-53.2485 1055.2718,-60.0165 1061.2715,-63.6225\"/>\n",
       "</g>\n",
       "<!-- 22 -->\n",
       "<g id=\"node23\" class=\"node\">\n",
       "<title>22</title>\n",
       "<path fill=\"#e58139\" fill-opacity=\"0.282353\" stroke=\"#000000\" d=\"M1374,-157C1374,-157 1145,-157 1145,-157 1139,-157 1133,-151 1133,-145 1133,-145 1133,-101 1133,-101 1133,-95 1139,-89 1145,-89 1145,-89 1374,-89 1374,-89 1380,-89 1386,-95 1386,-101 1386,-101 1386,-145 1386,-145 1386,-151 1380,-157 1374,-157\"/>\n",
       "<text text-anchor=\"middle\" x=\"1259.5\" y=\"-141.8\" font-family=\"Helvetica,sans-Serif\" font-size=\"14.00\" fill=\"#000000\">Population_Driver_licence(%) &lt;= 0.572</text>\n",
       "<text text-anchor=\"middle\" x=\"1259.5\" y=\"-126.8\" font-family=\"Helvetica,sans-Serif\" font-size=\"14.00\" fill=\"#000000\">mse = 204.64</text>\n",
       "<text text-anchor=\"middle\" x=\"1259.5\" y=\"-111.8\" font-family=\"Helvetica,sans-Serif\" font-size=\"14.00\" fill=\"#000000\">samples = 5</text>\n",
       "<text text-anchor=\"middle\" x=\"1259.5\" y=\"-96.8\" font-family=\"Helvetica,sans-Serif\" font-size=\"14.00\" fill=\"#000000\">value = 519.4</text>\n",
       "</g>\n",
       "<!-- 21&#45;&gt;22 -->\n",
       "<g id=\"edge22\" class=\"edge\">\n",
       "<title>21&#45;&gt;22</title>\n",
       "<path fill=\"none\" stroke=\"#000000\" d=\"M1259.5,-192.9465C1259.5,-184.776 1259.5,-175.9318 1259.5,-167.3697\"/>\n",
       "<polygon fill=\"#000000\" stroke=\"#000000\" points=\"1263.0001,-167.13 1259.5,-157.13 1256.0001,-167.13 1263.0001,-167.13\"/>\n",
       "</g>\n",
       "<!-- 25 -->\n",
       "<g id=\"node26\" class=\"node\">\n",
       "<title>25</title>\n",
       "<path fill=\"#e58139\" fill-opacity=\"0.490196\" stroke=\"#000000\" d=\"M1490.5,-149.5C1490.5,-149.5 1416.5,-149.5 1416.5,-149.5 1410.5,-149.5 1404.5,-143.5 1404.5,-137.5 1404.5,-137.5 1404.5,-108.5 1404.5,-108.5 1404.5,-102.5 1410.5,-96.5 1416.5,-96.5 1416.5,-96.5 1490.5,-96.5 1490.5,-96.5 1496.5,-96.5 1502.5,-102.5 1502.5,-108.5 1502.5,-108.5 1502.5,-137.5 1502.5,-137.5 1502.5,-143.5 1496.5,-149.5 1490.5,-149.5\"/>\n",
       "<text text-anchor=\"middle\" x=\"1453.5\" y=\"-134.3\" font-family=\"Helvetica,sans-Serif\" font-size=\"14.00\" fill=\"#000000\">mse = 0.0</text>\n",
       "<text text-anchor=\"middle\" x=\"1453.5\" y=\"-119.3\" font-family=\"Helvetica,sans-Serif\" font-size=\"14.00\" fill=\"#000000\">samples = 1</text>\n",
       "<text text-anchor=\"middle\" x=\"1453.5\" y=\"-104.3\" font-family=\"Helvetica,sans-Serif\" font-size=\"14.00\" fill=\"#000000\">value = 649.0</text>\n",
       "</g>\n",
       "<!-- 21&#45;&gt;25 -->\n",
       "<g id=\"edge25\" class=\"edge\">\n",
       "<title>21&#45;&gt;25</title>\n",
       "<path fill=\"none\" stroke=\"#000000\" d=\"M1326.761,-192.8694C1348.488,-181.6459 1372.6122,-168.9736 1394.5,-157 1395.9974,-156.1809 1397.5136,-155.346 1399.0416,-154.4997\"/>\n",
       "<polygon fill=\"#000000\" stroke=\"#000000\" points=\"1400.8559,-157.4953 1407.8752,-149.5592 1397.439,-151.3859 1400.8559,-157.4953\"/>\n",
       "</g>\n",
       "<!-- 23 -->\n",
       "<g id=\"node24\" class=\"node\">\n",
       "<title>23</title>\n",
       "<path fill=\"#e58139\" fill-opacity=\"0.254902\" stroke=\"#000000\" d=\"M1264.5,-53C1264.5,-53 1190.5,-53 1190.5,-53 1184.5,-53 1178.5,-47 1178.5,-41 1178.5,-41 1178.5,-12 1178.5,-12 1178.5,-6 1184.5,0 1190.5,0 1190.5,0 1264.5,0 1264.5,0 1270.5,0 1276.5,-6 1276.5,-12 1276.5,-12 1276.5,-41 1276.5,-41 1276.5,-47 1270.5,-53 1264.5,-53\"/>\n",
       "<text text-anchor=\"middle\" x=\"1227.5\" y=\"-37.8\" font-family=\"Helvetica,sans-Serif\" font-size=\"14.00\" fill=\"#000000\">mse = 36.0</text>\n",
       "<text text-anchor=\"middle\" x=\"1227.5\" y=\"-22.8\" font-family=\"Helvetica,sans-Serif\" font-size=\"14.00\" fill=\"#000000\">samples = 2</text>\n",
       "<text text-anchor=\"middle\" x=\"1227.5\" y=\"-7.8\" font-family=\"Helvetica,sans-Serif\" font-size=\"14.00\" fill=\"#000000\">value = 504.0</text>\n",
       "</g>\n",
       "<!-- 22&#45;&gt;23 -->\n",
       "<g id=\"edge23\" class=\"edge\">\n",
       "<title>22&#45;&gt;23</title>\n",
       "<path fill=\"none\" stroke=\"#000000\" d=\"M1248.218,-88.9777C1245.4244,-80.5533 1242.4201,-71.4934 1239.5897,-62.9579\"/>\n",
       "<polygon fill=\"#000000\" stroke=\"#000000\" points=\"1242.8397,-61.6386 1236.37,-53.2485 1236.1954,-63.8419 1242.8397,-61.6386\"/>\n",
       "</g>\n",
       "<!-- 24 -->\n",
       "<g id=\"node25\" class=\"node\">\n",
       "<title>24</title>\n",
       "<path fill=\"#e58139\" fill-opacity=\"0.298039\" stroke=\"#000000\" d=\"M1396,-53C1396,-53 1307,-53 1307,-53 1301,-53 1295,-47 1295,-41 1295,-41 1295,-12 1295,-12 1295,-6 1301,0 1307,0 1307,0 1396,0 1396,0 1402,0 1408,-6 1408,-12 1408,-12 1408,-41 1408,-41 1408,-47 1402,-53 1396,-53\"/>\n",
       "<text text-anchor=\"middle\" x=\"1351.5\" y=\"-37.8\" font-family=\"Helvetica,sans-Serif\" font-size=\"14.00\" fill=\"#000000\">mse = 53.556</text>\n",
       "<text text-anchor=\"middle\" x=\"1351.5\" y=\"-22.8\" font-family=\"Helvetica,sans-Serif\" font-size=\"14.00\" fill=\"#000000\">samples = 3</text>\n",
       "<text text-anchor=\"middle\" x=\"1351.5\" y=\"-7.8\" font-family=\"Helvetica,sans-Serif\" font-size=\"14.00\" fill=\"#000000\">value = 529.667</text>\n",
       "</g>\n",
       "<!-- 22&#45;&gt;24 -->\n",
       "<g id=\"edge24\" class=\"edge\">\n",
       "<title>22&#45;&gt;24</title>\n",
       "<path fill=\"none\" stroke=\"#000000\" d=\"M1291.9358,-88.9777C1300.6657,-79.8207 1310.1115,-69.9129 1318.8529,-60.744\"/>\n",
       "<polygon fill=\"#000000\" stroke=\"#000000\" points=\"1321.6318,-62.9014 1325.9989,-53.2485 1316.5653,-58.0712 1321.6318,-62.9014\"/>\n",
       "</g>\n",
       "<!-- 27 -->\n",
       "<g id=\"node28\" class=\"node\">\n",
       "<title>27</title>\n",
       "<path fill=\"#e58139\" fill-opacity=\"0.917647\" stroke=\"#000000\" d=\"M1533.5,-365C1533.5,-365 1373.5,-365 1373.5,-365 1367.5,-365 1361.5,-359 1361.5,-353 1361.5,-353 1361.5,-309 1361.5,-309 1361.5,-303 1367.5,-297 1373.5,-297 1373.5,-297 1533.5,-297 1533.5,-297 1539.5,-297 1545.5,-303 1545.5,-309 1545.5,-309 1545.5,-353 1545.5,-353 1545.5,-359 1539.5,-365 1533.5,-365\"/>\n",
       "<text text-anchor=\"middle\" x=\"1453.5\" y=\"-349.8\" font-family=\"Helvetica,sans-Serif\" font-size=\"14.00\" fill=\"#000000\">Average_income &lt;= 4530.5</text>\n",
       "<text text-anchor=\"middle\" x=\"1453.5\" y=\"-334.8\" font-family=\"Helvetica,sans-Serif\" font-size=\"14.00\" fill=\"#000000\">mse = 2652.25</text>\n",
       "<text text-anchor=\"middle\" x=\"1453.5\" y=\"-319.8\" font-family=\"Helvetica,sans-Serif\" font-size=\"14.00\" fill=\"#000000\">samples = 2</text>\n",
       "<text text-anchor=\"middle\" x=\"1453.5\" y=\"-304.8\" font-family=\"Helvetica,sans-Serif\" font-size=\"14.00\" fill=\"#000000\">value = 916.5</text>\n",
       "</g>\n",
       "<!-- 26&#45;&gt;27 -->\n",
       "<g id=\"edge27\" class=\"edge\">\n",
       "<title>26&#45;&gt;27</title>\n",
       "<path fill=\"none\" stroke=\"#000000\" d=\"M1453.5,-400.9465C1453.5,-392.776 1453.5,-383.9318 1453.5,-375.3697\"/>\n",
       "<polygon fill=\"#000000\" stroke=\"#000000\" points=\"1457.0001,-375.13 1453.5,-365.13 1450.0001,-375.13 1457.0001,-375.13\"/>\n",
       "</g>\n",
       "<!-- 30 -->\n",
       "<g id=\"node31\" class=\"node\">\n",
       "<title>30</title>\n",
       "<path fill=\"#e58139\" fill-opacity=\"0.474510\" stroke=\"#000000\" d=\"M1649.5,-357.5C1649.5,-357.5 1575.5,-357.5 1575.5,-357.5 1569.5,-357.5 1563.5,-351.5 1563.5,-345.5 1563.5,-345.5 1563.5,-316.5 1563.5,-316.5 1563.5,-310.5 1569.5,-304.5 1575.5,-304.5 1575.5,-304.5 1649.5,-304.5 1649.5,-304.5 1655.5,-304.5 1661.5,-310.5 1661.5,-316.5 1661.5,-316.5 1661.5,-345.5 1661.5,-345.5 1661.5,-351.5 1655.5,-357.5 1649.5,-357.5\"/>\n",
       "<text text-anchor=\"middle\" x=\"1612.5\" y=\"-342.3\" font-family=\"Helvetica,sans-Serif\" font-size=\"14.00\" fill=\"#000000\">mse = 0.0</text>\n",
       "<text text-anchor=\"middle\" x=\"1612.5\" y=\"-327.3\" font-family=\"Helvetica,sans-Serif\" font-size=\"14.00\" fill=\"#000000\">samples = 1</text>\n",
       "<text text-anchor=\"middle\" x=\"1612.5\" y=\"-312.3\" font-family=\"Helvetica,sans-Serif\" font-size=\"14.00\" fill=\"#000000\">value = 640.0</text>\n",
       "</g>\n",
       "<!-- 26&#45;&gt;30 -->\n",
       "<g id=\"edge30\" class=\"edge\">\n",
       "<title>26&#45;&gt;30</title>\n",
       "<path fill=\"none\" stroke=\"#000000\" d=\"M1505.5625,-400.9465C1524.0866,-388.8301 1544.876,-375.232 1563.1648,-363.2696\"/>\n",
       "<polygon fill=\"#000000\" stroke=\"#000000\" points=\"1565.4682,-365.9452 1571.9211,-357.5422 1561.6364,-360.087 1565.4682,-365.9452\"/>\n",
       "</g>\n",
       "<!-- 28 -->\n",
       "<g id=\"node29\" class=\"node\">\n",
       "<title>28</title>\n",
       "<path fill=\"#e58139\" stroke=\"#000000\" d=\"M1490.5,-253.5C1490.5,-253.5 1416.5,-253.5 1416.5,-253.5 1410.5,-253.5 1404.5,-247.5 1404.5,-241.5 1404.5,-241.5 1404.5,-212.5 1404.5,-212.5 1404.5,-206.5 1410.5,-200.5 1416.5,-200.5 1416.5,-200.5 1490.5,-200.5 1490.5,-200.5 1496.5,-200.5 1502.5,-206.5 1502.5,-212.5 1502.5,-212.5 1502.5,-241.5 1502.5,-241.5 1502.5,-247.5 1496.5,-253.5 1490.5,-253.5\"/>\n",
       "<text text-anchor=\"middle\" x=\"1453.5\" y=\"-238.3\" font-family=\"Helvetica,sans-Serif\" font-size=\"14.00\" fill=\"#000000\">mse = 0.0</text>\n",
       "<text text-anchor=\"middle\" x=\"1453.5\" y=\"-223.3\" font-family=\"Helvetica,sans-Serif\" font-size=\"14.00\" fill=\"#000000\">samples = 1</text>\n",
       "<text text-anchor=\"middle\" x=\"1453.5\" y=\"-208.3\" font-family=\"Helvetica,sans-Serif\" font-size=\"14.00\" fill=\"#000000\">value = 968.0</text>\n",
       "</g>\n",
       "<!-- 27&#45;&gt;28 -->\n",
       "<g id=\"edge28\" class=\"edge\">\n",
       "<title>27&#45;&gt;28</title>\n",
       "<path fill=\"none\" stroke=\"#000000\" d=\"M1453.5,-296.9465C1453.5,-286.2621 1453.5,-274.4254 1453.5,-263.5742\"/>\n",
       "<polygon fill=\"#000000\" stroke=\"#000000\" points=\"1457.0001,-263.5421 1453.5,-253.5422 1450.0001,-263.5422 1457.0001,-263.5421\"/>\n",
       "</g>\n",
       "<!-- 29 -->\n",
       "<g id=\"node30\" class=\"node\">\n",
       "<title>29</title>\n",
       "<path fill=\"#e58139\" fill-opacity=\"0.835294\" stroke=\"#000000\" d=\"M1606.5,-253.5C1606.5,-253.5 1532.5,-253.5 1532.5,-253.5 1526.5,-253.5 1520.5,-247.5 1520.5,-241.5 1520.5,-241.5 1520.5,-212.5 1520.5,-212.5 1520.5,-206.5 1526.5,-200.5 1532.5,-200.5 1532.5,-200.5 1606.5,-200.5 1606.5,-200.5 1612.5,-200.5 1618.5,-206.5 1618.5,-212.5 1618.5,-212.5 1618.5,-241.5 1618.5,-241.5 1618.5,-247.5 1612.5,-253.5 1606.5,-253.5\"/>\n",
       "<text text-anchor=\"middle\" x=\"1569.5\" y=\"-238.3\" font-family=\"Helvetica,sans-Serif\" font-size=\"14.00\" fill=\"#000000\">mse = 0.0</text>\n",
       "<text text-anchor=\"middle\" x=\"1569.5\" y=\"-223.3\" font-family=\"Helvetica,sans-Serif\" font-size=\"14.00\" fill=\"#000000\">samples = 1</text>\n",
       "<text text-anchor=\"middle\" x=\"1569.5\" y=\"-208.3\" font-family=\"Helvetica,sans-Serif\" font-size=\"14.00\" fill=\"#000000\">value = 865.0</text>\n",
       "</g>\n",
       "<!-- 27&#45;&gt;29 -->\n",
       "<g id=\"edge29\" class=\"edge\">\n",
       "<title>27&#45;&gt;29</title>\n",
       "<path fill=\"none\" stroke=\"#000000\" d=\"M1491.4827,-296.9465C1504.6286,-285.1606 1519.3382,-271.9726 1532.4113,-260.2519\"/>\n",
       "<polygon fill=\"#000000\" stroke=\"#000000\" points=\"1534.786,-262.8236 1539.8953,-253.5422 1530.1131,-257.6116 1534.786,-262.8236\"/>\n",
       "</g>\n",
       "</g>\n",
       "</svg>\n"
      ],
      "text/plain": [
       "<graphviz.files.Source at 0x7f4ded0ca240>"
      ]
     },
     "execution_count": 655,
     "metadata": {},
     "output_type": "execute_result"
    }
   ],
   "source": [
    "graphviz.Source(dot_data_1)"
   ]
  },
  {
   "cell_type": "markdown",
   "metadata": {},
   "source": [
    "# Summary \n",
    "\n",
    "Using Decision Trees to build a regressor for the give data. Using Grid Search to find the optimal value for the hyperparameters, and evaluate your model on the appropriate metrics.\n",
    "\n",
    "Mean Absolute Error      : 43.78333333333334\n",
    "\n",
    "Mean Squared Error       : 2753.7736111111117\n",
    "\n",
    "Root Mean Squared Error  : 52.47641004404848\n",
    "\n",
    "R2 score                 : 0.67316805690946  \n",
    "\n",
    "# Tree Diagram Interpretation with their conditons\n",
    "\n",
    "\n",
    "**Decision tree using Hyperparamter conditions with max_depth[3,4,5,6,none] and max_features [3,4] gives the best fit depth and feature for future predictions.\n",
    "\n",
    "**The best fit hyperparameter decision is max_depth 5 and all Features Max_features = 4 \n",
    "\n",
    "**The dataset with one target(Petrol_consumption) and four features('Petrol_tax','Average_income','Paved_Highways','Population_Driver_licence(%)')\n",
    "\n",
    "**Now,By calculating the mean square error between two corresponding features with respetive to all combinations which have more information gain will considered as root for the Decison Tree.here, Population_Driver_licence <= 0.667 and mse 12431.186,samples 38,value 582.158\n",
    "\n",
    "**The Root of the tree takes a Boolean decision True and False as 2 decison brach nodes Average_income <=4395,mse 6430.98,samples 35,value 561.4 and Petrol_tax <=7.75,mse 18757.556,samples 3,value 824.333.\n",
    "\n",
    "**The root branch with True decision Average_income is again divided into 2 decison branch nodes Petrol_tax <= 7.75 and Population_Driver_licence <= 0.548,mse <=6474.56,samples 10,value 487.8 which is again divided into Population_Driver_licence <= 0.481 and Population_Driver_licence <= 0.632 ,mse 2503.333,samples 6,value 541.0 which divides into one leaf node mse 0,sample 1,value 649 and decision brach Population_Driver_licence <= 0.572,mse 204.64,samples 5,value 519.4 having 2 leafs right and left with mse 36.0 ,53.55 ,samples 2,3 and value 504, 529.667.\n",
    "\n",
    "**Decision branch of Population_Driver_licence <= 0.481,mse 1818,sample 4,value 408.0 which divides into one leaf on left mse 0,samples 1,values 344.0 and decison branch Paved_Highways <= 2400,mse 603.55,samples 3,values 429.33 with 2 leaf nodes left and right with mse 4.0,0.0,samples 2,1,values 412,464.\n",
    "\n",
    "**Decison branch of Petrol_tax <=7.75 have 2 more decision branch Paved_Highways <= 6482.5 and Population_Driver_licence <= 0.621,mse 1398.322,sample 12,value 559.667 which divides into one leaf node on right with mse 0,samples 1,values 648.0 and left decision subclass Paved_Highways <= 4716.0,mse 752.05,samples 11,values 551.636 having 2 leaf nodes left and right with mse 539.88,22.96,samples 6,5,values 532.3,574.0.\n",
    "\n",
    "**Decision brach Paved_Highways <= 6482.5 divides into 2 decison branch ledt Paved_Highways <= 4423.0,mse 1759.917,sample 6,value 664.5 divides into 2 lead nodes left and right with mse 1142.188,2.0 ,sample  4,2 ,values 642.25,709.0 and right decision branch Paved_Highways <= 8333.5,mse 1754.694,samples 7,value 581.147 with 2 leaf nodes left and right conditions mse 619.188,202.667,samples 4,3,values 549.75,623.0 .\n",
    "\n",
    "**Lets now fron root Boolean false right Petrol_tax <= 7.75,mse 18757.55,sample 3,value 824.33 with this condition divides into right leaf node mse 0,sample 1,value 640.0 and ledt Decision brach Average_income <= 4530.5,mse 2652.25,sample 2,value 916.5 with this condition divided into last leaf node left and right mse 0,samples 1,1,values 968.0,865.0 . \n",
    "\n",
    "\n",
    "\n",
    "\n",
    "\n",
    "\n"
   ]
  },
  {
   "cell_type": "code",
   "execution_count": 661,
   "metadata": {},
   "outputs": [],
   "source": [
    "import numpy as np"
   ]
  },
  {
   "cell_type": "code",
   "execution_count": 662,
   "metadata": {},
   "outputs": [
    {
     "data": {
      "text/plain": [
       "array([464.        , 504.        , 529.66666667, 549.75      ,\n",
       "       623.        , 642.25      , 865.        ])"
      ]
     },
     "execution_count": 662,
     "metadata": {},
     "output_type": "execute_result"
    }
   ],
   "source": [
    "np.unique(predictions_1)"
   ]
  },
  {
   "cell_type": "markdown",
   "metadata": {},
   "source": [
    "We can also export the graph to other formats like png, pdf etc. by using pydotplus package."
   ]
  },
  {
   "cell_type": "code",
   "execution_count": 663,
   "metadata": {},
   "outputs": [],
   "source": [
    "from pydotplus import graph_from_dot_data"
   ]
  },
  {
   "cell_type": "code",
   "execution_count": 664,
   "metadata": {},
   "outputs": [],
   "source": [
    "graph_1 = graph_from_dot_data(dot_data_1)"
   ]
  },
  {
   "cell_type": "code",
   "execution_count": 665,
   "metadata": {},
   "outputs": [
    {
     "data": {
      "text/plain": [
       "True"
      ]
     },
     "execution_count": 665,
     "metadata": {},
     "output_type": "execute_result"
    }
   ],
   "source": [
    "graph_1.write_png(\"regression_tree_1.png\")"
   ]
  },
  {
   "cell_type": "markdown",
   "metadata": {},
   "source": [
    "# Conclustion\n",
    "\n",
    "Using Decision Tree for Regression We will use this dataset to try and predict gas consumptions (in millions of gallons) in 48 US states based upon gas tax (in cents), per capita income (dollars), paved highways (in miles) and the proportion of population with a drivers license.\n",
    "\n",
    "Decision tree with max_depth =2 :\n",
    "\n",
    "Mean Absolute Error      :  45.617999999999995\n",
    "\n",
    "Mean Squared Error       :  3617.6406799999995\n",
    "\n",
    "Root Mean Squared Error  :  60.14682601767112\n",
    "\n",
    "R2-score                 :  0.67316805690946\n",
    "\n",
    "using hyperparamater with max_depth=5 and max_features = 4 :\n",
    "\n",
    "Mean Absolute Error      : 43.78333333333334\n",
    "\n",
    "Mean Squared Error       : 2753.7736111111117\n",
    "\n",
    "Root Mean Squared Error  : 52.47641004404848\n",
    "\n",
    "R2 score                 : 0.67316805690946  \n",
    "\n",
    "# observation :\n",
    "\n",
    "From obeservation we see that Mean Squared Error of depth = 2 is 3617.64 and using hyperparameter value 2753.77 there is a decrease in mean square error.\n",
    "\n",
    "After and before hyperparamater usage R2 score is equal 67.3%\n",
    "\n",
    "Mean Absolute Error is also decreased in hyperparamater and got good predictions score with hyperparameter with decrease in Mean Absolute Error ,Mean Squared Error,Root Mean Squared Error.\n",
    "\n",
    "Finally using GridSearch and hyperparameter we can cross validate our model and get best model ."
   ]
  },
  {
   "cell_type": "code",
   "execution_count": null,
   "metadata": {},
   "outputs": [],
   "source": []
  },
  {
   "cell_type": "code",
   "execution_count": null,
   "metadata": {},
   "outputs": [],
   "source": []
  }
 ],
 "metadata": {
  "kernelspec": {
   "display_name": "Python 3",
   "language": "python",
   "name": "python3"
  },
  "language_info": {
   "codemirror_mode": {
    "name": "ipython",
    "version": 3
   },
   "file_extension": ".py",
   "mimetype": "text/x-python",
   "name": "python",
   "nbconvert_exporter": "python",
   "pygments_lexer": "ipython3",
   "version": "3.7.3"
  }
 },
 "nbformat": 4,
 "nbformat_minor": 2
}
